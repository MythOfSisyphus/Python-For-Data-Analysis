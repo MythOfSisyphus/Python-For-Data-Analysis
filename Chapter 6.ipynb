{
 "cells": [
  {
   "cell_type": "markdown",
   "id": "b94951a8-b945-4ad0-8e44-e7af48d8e258",
   "metadata": {},
   "source": [
    "# Data Loading, Storage and File Formats"
   ]
  },
  {
   "cell_type": "code",
   "execution_count": 1,
   "id": "43d4d6ab-8f20-4947-aa99-f2bba0eedbab",
   "metadata": {},
   "outputs": [],
   "source": [
    "import numpy as np"
   ]
  },
  {
   "cell_type": "code",
   "execution_count": 2,
   "id": "3c0e51af-80b0-4a27-b550-b1b3cd72314c",
   "metadata": {},
   "outputs": [],
   "source": [
    "import pandas as pd"
   ]
  },
  {
   "cell_type": "code",
   "execution_count": 3,
   "id": "30240b27-4617-4124-9ea7-e61933c464e7",
   "metadata": {},
   "outputs": [],
   "source": [
    "df = pd.read_csv('education.csv')"
   ]
  },
  {
   "cell_type": "code",
   "execution_count": 4,
   "id": "f4d33638-bf88-44fe-bdb7-c2351fa6914d",
   "metadata": {},
   "outputs": [
    {
     "data": {
      "text/html": [
       "<div>\n",
       "<style scoped>\n",
       "    .dataframe tbody tr th:only-of-type {\n",
       "        vertical-align: middle;\n",
       "    }\n",
       "\n",
       "    .dataframe tbody tr th {\n",
       "        vertical-align: top;\n",
       "    }\n",
       "\n",
       "    .dataframe thead th {\n",
       "        text-align: right;\n",
       "    }\n",
       "</style>\n",
       "<table border=\"1\" class=\"dataframe\">\n",
       "  <thead>\n",
       "    <tr style=\"text-align: right;\">\n",
       "      <th></th>\n",
       "      <th>Education</th>\n",
       "    </tr>\n",
       "  </thead>\n",
       "  <tbody>\n",
       "    <tr>\n",
       "      <th>0</th>\n",
       "      <td>High School</td>\n",
       "    </tr>\n",
       "    <tr>\n",
       "      <th>1</th>\n",
       "      <td>Associate Degree</td>\n",
       "    </tr>\n",
       "    <tr>\n",
       "      <th>2</th>\n",
       "      <td>Bachelor's Degree</td>\n",
       "    </tr>\n",
       "    <tr>\n",
       "      <th>3</th>\n",
       "      <td>Graduate or Professional Degree</td>\n",
       "    </tr>\n",
       "    <tr>\n",
       "      <th>4</th>\n",
       "      <td>Some College</td>\n",
       "    </tr>\n",
       "    <tr>\n",
       "      <th>5</th>\n",
       "      <td>Other</td>\n",
       "    </tr>\n",
       "    <tr>\n",
       "      <th>6</th>\n",
       "      <td>Prefer not to answer</td>\n",
       "    </tr>\n",
       "  </tbody>\n",
       "</table>\n",
       "</div>"
      ],
      "text/plain": [
       "                         Education\n",
       "0                      High School\n",
       "1                 Associate Degree\n",
       "2                Bachelor's Degree\n",
       "3  Graduate or Professional Degree\n",
       "4                     Some College\n",
       "5                            Other\n",
       "6             Prefer not to answer"
      ]
     },
     "execution_count": 4,
     "metadata": {},
     "output_type": "execute_result"
    }
   ],
   "source": [
    "df"
   ]
  },
  {
   "cell_type": "code",
   "execution_count": 5,
   "id": "cee8d1e7-1c00-4695-8982-d9dae49f9ebc",
   "metadata": {},
   "outputs": [],
   "source": [
    "df_2 = pd.read_csv('currency.csv')"
   ]
  },
  {
   "cell_type": "code",
   "execution_count": 6,
   "id": "ad9fa7e1-467d-41c0-9ed4-2c2ffc361089",
   "metadata": {},
   "outputs": [
    {
     "data": {
      "text/html": [
       "<div>\n",
       "<style scoped>\n",
       "    .dataframe tbody tr th:only-of-type {\n",
       "        vertical-align: middle;\n",
       "    }\n",
       "\n",
       "    .dataframe tbody tr th {\n",
       "        vertical-align: top;\n",
       "    }\n",
       "\n",
       "    .dataframe thead th {\n",
       "        text-align: right;\n",
       "    }\n",
       "</style>\n",
       "<table border=\"1\" class=\"dataframe\">\n",
       "  <thead>\n",
       "    <tr style=\"text-align: right;\">\n",
       "      <th></th>\n",
       "      <th>Code</th>\n",
       "      <th>Symbol</th>\n",
       "      <th>Name</th>\n",
       "    </tr>\n",
       "  </thead>\n",
       "  <tbody>\n",
       "    <tr>\n",
       "      <th>0</th>\n",
       "      <td>AED</td>\n",
       "      <td>د.إ</td>\n",
       "      <td>United Arab Emirates d</td>\n",
       "    </tr>\n",
       "    <tr>\n",
       "      <th>1</th>\n",
       "      <td>AFN</td>\n",
       "      <td>؋</td>\n",
       "      <td>Afghan afghani</td>\n",
       "    </tr>\n",
       "    <tr>\n",
       "      <th>2</th>\n",
       "      <td>ALL</td>\n",
       "      <td>L</td>\n",
       "      <td>Albanian lek</td>\n",
       "    </tr>\n",
       "    <tr>\n",
       "      <th>3</th>\n",
       "      <td>AMD</td>\n",
       "      <td>AMD</td>\n",
       "      <td>Armenian dram</td>\n",
       "    </tr>\n",
       "    <tr>\n",
       "      <th>4</th>\n",
       "      <td>ANG</td>\n",
       "      <td>ƒ</td>\n",
       "      <td>Netherlands Antillean gu</td>\n",
       "    </tr>\n",
       "    <tr>\n",
       "      <th>...</th>\n",
       "      <td>...</td>\n",
       "      <td>...</td>\n",
       "      <td>...</td>\n",
       "    </tr>\n",
       "    <tr>\n",
       "      <th>158</th>\n",
       "      <td>XOF</td>\n",
       "      <td>CFA</td>\n",
       "      <td>West African CFA franc</td>\n",
       "    </tr>\n",
       "    <tr>\n",
       "      <th>159</th>\n",
       "      <td>XPF</td>\n",
       "      <td>Fr</td>\n",
       "      <td>CFP franc</td>\n",
       "    </tr>\n",
       "    <tr>\n",
       "      <th>160</th>\n",
       "      <td>YER</td>\n",
       "      <td>﷼</td>\n",
       "      <td>Yemeni rial</td>\n",
       "    </tr>\n",
       "    <tr>\n",
       "      <th>161</th>\n",
       "      <td>ZAR</td>\n",
       "      <td>R</td>\n",
       "      <td>South African rand</td>\n",
       "    </tr>\n",
       "    <tr>\n",
       "      <th>162</th>\n",
       "      <td>ZMW</td>\n",
       "      <td>ZK</td>\n",
       "      <td>Zambian kwacha</td>\n",
       "    </tr>\n",
       "  </tbody>\n",
       "</table>\n",
       "<p>163 rows × 3 columns</p>\n",
       "</div>"
      ],
      "text/plain": [
       "    Code Symbol                      Name\n",
       "0    AED    د.إ    United Arab Emirates d\n",
       "1    AFN      ؋            Afghan afghani\n",
       "2    ALL      L              Albanian lek\n",
       "3    AMD    AMD             Armenian dram\n",
       "4    ANG      ƒ  Netherlands Antillean gu\n",
       "..   ...    ...                       ...\n",
       "158  XOF    CFA    West African CFA franc\n",
       "159  XPF     Fr                 CFP franc\n",
       "160  YER      ﷼               Yemeni rial\n",
       "161  ZAR      R        South African rand\n",
       "162  ZMW     ZK            Zambian kwacha\n",
       "\n",
       "[163 rows x 3 columns]"
      ]
     },
     "execution_count": 6,
     "metadata": {},
     "output_type": "execute_result"
    }
   ],
   "source": [
    "df_2"
   ]
  },
  {
   "cell_type": "code",
   "execution_count": 8,
   "id": "75ea1547-287e-438a-a37d-6e9133a3f362",
   "metadata": {},
   "outputs": [
    {
     "data": {
      "text/html": [
       "<div>\n",
       "<style scoped>\n",
       "    .dataframe tbody tr th:only-of-type {\n",
       "        vertical-align: middle;\n",
       "    }\n",
       "\n",
       "    .dataframe tbody tr th {\n",
       "        vertical-align: top;\n",
       "    }\n",
       "\n",
       "    .dataframe thead th {\n",
       "        text-align: right;\n",
       "    }\n",
       "</style>\n",
       "<table border=\"1\" class=\"dataframe\">\n",
       "  <thead>\n",
       "    <tr style=\"text-align: right;\">\n",
       "      <th></th>\n",
       "      <th>Code</th>\n",
       "      <th>Symbol</th>\n",
       "      <th>Name</th>\n",
       "    </tr>\n",
       "  </thead>\n",
       "  <tbody>\n",
       "    <tr>\n",
       "      <th>0</th>\n",
       "      <td>AED</td>\n",
       "      <td>د.إ</td>\n",
       "      <td>United Arab Emirates d</td>\n",
       "    </tr>\n",
       "    <tr>\n",
       "      <th>1</th>\n",
       "      <td>AFN</td>\n",
       "      <td>؋</td>\n",
       "      <td>Afghan afghani</td>\n",
       "    </tr>\n",
       "    <tr>\n",
       "      <th>2</th>\n",
       "      <td>ALL</td>\n",
       "      <td>L</td>\n",
       "      <td>Albanian lek</td>\n",
       "    </tr>\n",
       "    <tr>\n",
       "      <th>3</th>\n",
       "      <td>AMD</td>\n",
       "      <td>AMD</td>\n",
       "      <td>Armenian dram</td>\n",
       "    </tr>\n",
       "    <tr>\n",
       "      <th>4</th>\n",
       "      <td>ANG</td>\n",
       "      <td>ƒ</td>\n",
       "      <td>Netherlands Antillean gu</td>\n",
       "    </tr>\n",
       "  </tbody>\n",
       "</table>\n",
       "</div>"
      ],
      "text/plain": [
       "  Code Symbol                      Name\n",
       "0  AED    د.إ    United Arab Emirates d\n",
       "1  AFN      ؋            Afghan afghani\n",
       "2  ALL      L              Albanian lek\n",
       "3  AMD    AMD             Armenian dram\n",
       "4  ANG      ƒ  Netherlands Antillean gu"
      ]
     },
     "execution_count": 8,
     "metadata": {},
     "output_type": "execute_result"
    }
   ],
   "source": [
    "df_2.head()"
   ]
  },
  {
   "cell_type": "code",
   "execution_count": 9,
   "id": "cc95ce83-6333-45ea-9985-9b9694d26322",
   "metadata": {},
   "outputs": [
    {
     "data": {
      "text/html": [
       "<div>\n",
       "<style scoped>\n",
       "    .dataframe tbody tr th:only-of-type {\n",
       "        vertical-align: middle;\n",
       "    }\n",
       "\n",
       "    .dataframe tbody tr th {\n",
       "        vertical-align: top;\n",
       "    }\n",
       "\n",
       "    .dataframe thead th {\n",
       "        text-align: right;\n",
       "    }\n",
       "</style>\n",
       "<table border=\"1\" class=\"dataframe\">\n",
       "  <thead>\n",
       "    <tr style=\"text-align: right;\">\n",
       "      <th></th>\n",
       "      <th>Code</th>\n",
       "      <th>Symbol</th>\n",
       "      <th>Name</th>\n",
       "    </tr>\n",
       "  </thead>\n",
       "  <tbody>\n",
       "    <tr>\n",
       "      <th>158</th>\n",
       "      <td>XOF</td>\n",
       "      <td>CFA</td>\n",
       "      <td>West African CFA franc</td>\n",
       "    </tr>\n",
       "    <tr>\n",
       "      <th>159</th>\n",
       "      <td>XPF</td>\n",
       "      <td>Fr</td>\n",
       "      <td>CFP franc</td>\n",
       "    </tr>\n",
       "    <tr>\n",
       "      <th>160</th>\n",
       "      <td>YER</td>\n",
       "      <td>﷼</td>\n",
       "      <td>Yemeni rial</td>\n",
       "    </tr>\n",
       "    <tr>\n",
       "      <th>161</th>\n",
       "      <td>ZAR</td>\n",
       "      <td>R</td>\n",
       "      <td>South African rand</td>\n",
       "    </tr>\n",
       "    <tr>\n",
       "      <th>162</th>\n",
       "      <td>ZMW</td>\n",
       "      <td>ZK</td>\n",
       "      <td>Zambian kwacha</td>\n",
       "    </tr>\n",
       "  </tbody>\n",
       "</table>\n",
       "</div>"
      ],
      "text/plain": [
       "    Code Symbol                    Name\n",
       "158  XOF    CFA  West African CFA franc\n",
       "159  XPF     Fr               CFP franc\n",
       "160  YER      ﷼             Yemeni rial\n",
       "161  ZAR      R      South African rand\n",
       "162  ZMW     ZK          Zambian kwacha"
      ]
     },
     "execution_count": 9,
     "metadata": {},
     "output_type": "execute_result"
    }
   ],
   "source": [
    "df_2.tail()"
   ]
  },
  {
   "cell_type": "code",
   "execution_count": 10,
   "id": "ffa085dd-0473-467a-8fd5-3545a4ea4066",
   "metadata": {},
   "outputs": [
    {
     "name": "stdout",
     "output_type": "stream",
     "text": [
      "Education\n",
      "High School\n",
      "Associate Degree\n",
      "Bachelor's Degree\n",
      "Graduate or Professional Degree\n",
      "Some College\n",
      "Other\n",
      "Prefer not to answer\n"
     ]
    }
   ],
   "source": [
    "!type education.csv"
   ]
  },
  {
   "cell_type": "code",
   "execution_count": 12,
   "id": "d64ba1f4-21e2-41b5-92e7-f77c02ac81ce",
   "metadata": {},
   "outputs": [],
   "source": [
    "import csv"
   ]
  },
  {
   "cell_type": "code",
   "execution_count": 13,
   "id": "b81be312-8919-4386-a852-ed946392bfc8",
   "metadata": {},
   "outputs": [],
   "source": [
    "f = open('education.csv')\n",
    "reader = csv.reader(f)"
   ]
  },
  {
   "cell_type": "code",
   "execution_count": 14,
   "id": "6ec5832c-4662-4342-8d83-d1f58187b3a7",
   "metadata": {},
   "outputs": [
    {
     "data": {
      "text/plain": [
       "<_csv.reader at 0x22d43ce29e0>"
      ]
     },
     "execution_count": 14,
     "metadata": {},
     "output_type": "execute_result"
    }
   ],
   "source": [
    "reader"
   ]
  },
  {
   "cell_type": "code",
   "execution_count": 15,
   "id": "f18e1c1d-181f-4c76-9160-89f884b536bb",
   "metadata": {},
   "outputs": [
    {
     "name": "stdout",
     "output_type": "stream",
     "text": [
      "<_csv.reader object at 0x0000022D43CE29E0>\n"
     ]
    }
   ],
   "source": [
    "print(reader)"
   ]
  },
  {
   "cell_type": "code",
   "execution_count": 16,
   "id": "baf23934-6567-4af7-8862-146054a6776b",
   "metadata": {},
   "outputs": [
    {
     "name": "stdout",
     "output_type": "stream",
     "text": [
      "['Education']\n",
      "['High School']\n",
      "['Associate Degree']\n",
      "[\"Bachelor's Degree\"]\n",
      "['Graduate or Professional Degree']\n",
      "['Some College']\n",
      "['Other']\n",
      "['Prefer not to answer']\n"
     ]
    }
   ],
   "source": [
    "for line in reader:\n",
    "    print(line)"
   ]
  },
  {
   "cell_type": "code",
   "execution_count": 17,
   "id": "dd2c0ae5-e8bf-4779-a75e-c94f1ced904c",
   "metadata": {},
   "outputs": [],
   "source": [
    "f.close()"
   ]
  },
  {
   "cell_type": "code",
   "execution_count": 19,
   "id": "e59c5023-7e7b-41eb-a2e0-b1e19431e33e",
   "metadata": {},
   "outputs": [
    {
     "data": {
      "text/html": [
       "<div>\n",
       "<style scoped>\n",
       "    .dataframe tbody tr th:only-of-type {\n",
       "        vertical-align: middle;\n",
       "    }\n",
       "\n",
       "    .dataframe tbody tr th {\n",
       "        vertical-align: top;\n",
       "    }\n",
       "\n",
       "    .dataframe thead th {\n",
       "        text-align: right;\n",
       "    }\n",
       "</style>\n",
       "<table border=\"1\" class=\"dataframe\">\n",
       "  <thead>\n",
       "    <tr style=\"text-align: right;\">\n",
       "      <th></th>\n",
       "      <th>Name</th>\n",
       "      <th>Subject</th>\n",
       "      <th>Age</th>\n",
       "      <th>City</th>\n",
       "      <th>Country</th>\n",
       "      <th>Unnamed: 5</th>\n",
       "      <th>Unnamed: 6</th>\n",
       "      <th>Unnamed: 7</th>\n",
       "      <th>Unnamed: 8</th>\n",
       "      <th>Unnamed: 9</th>\n",
       "    </tr>\n",
       "  </thead>\n",
       "  <tbody>\n",
       "    <tr>\n",
       "      <th>0</th>\n",
       "      <td>Lucky</td>\n",
       "      <td>Mathematics</td>\n",
       "      <td>20</td>\n",
       "      <td>Vadodara</td>\n",
       "      <td>India</td>\n",
       "      <td>NaN</td>\n",
       "      <td>NaN</td>\n",
       "      <td>NaN</td>\n",
       "      <td>NaN</td>\n",
       "      <td>NaN</td>\n",
       "    </tr>\n",
       "    <tr>\n",
       "      <th>1</th>\n",
       "      <td>Ayan</td>\n",
       "      <td>Computer Science</td>\n",
       "      <td>21</td>\n",
       "      <td>Mumbai</td>\n",
       "      <td>India</td>\n",
       "      <td>NaN</td>\n",
       "      <td>NaN</td>\n",
       "      <td>NaN</td>\n",
       "      <td>NaN</td>\n",
       "      <td>NaN</td>\n",
       "    </tr>\n",
       "    <tr>\n",
       "      <th>2</th>\n",
       "      <td>Cody</td>\n",
       "      <td>Physics</td>\n",
       "      <td>23</td>\n",
       "      <td>LA</td>\n",
       "      <td>USA</td>\n",
       "      <td>NaN</td>\n",
       "      <td>NaN</td>\n",
       "      <td>NaN</td>\n",
       "      <td>NaN</td>\n",
       "      <td>NaN</td>\n",
       "    </tr>\n",
       "    <tr>\n",
       "      <th>3</th>\n",
       "      <td>Darksun</td>\n",
       "      <td>Mathematics</td>\n",
       "      <td>18</td>\n",
       "      <td>Macau</td>\n",
       "      <td>Hong Kong</td>\n",
       "      <td>NaN</td>\n",
       "      <td>NaN</td>\n",
       "      <td>NaN</td>\n",
       "      <td>NaN</td>\n",
       "      <td>NaN</td>\n",
       "    </tr>\n",
       "    <tr>\n",
       "      <th>4</th>\n",
       "      <td>Omar</td>\n",
       "      <td>Electrical Engineering</td>\n",
       "      <td>28</td>\n",
       "      <td>Neom</td>\n",
       "      <td>Saudi Arabia</td>\n",
       "      <td>NaN</td>\n",
       "      <td>NaN</td>\n",
       "      <td>NaN</td>\n",
       "      <td>NaN</td>\n",
       "      <td>NaN</td>\n",
       "    </tr>\n",
       "    <tr>\n",
       "      <th>5</th>\n",
       "      <td>Osvaldo</td>\n",
       "      <td>Statistics</td>\n",
       "      <td>40</td>\n",
       "      <td>Turin</td>\n",
       "      <td>Italy</td>\n",
       "      <td>NaN</td>\n",
       "      <td>NaN</td>\n",
       "      <td>NaN</td>\n",
       "      <td>NaN</td>\n",
       "      <td>NaN</td>\n",
       "    </tr>\n",
       "    <tr>\n",
       "      <th>6</th>\n",
       "      <td>Shubham</td>\n",
       "      <td>Arts</td>\n",
       "      <td>22</td>\n",
       "      <td>Udaipur</td>\n",
       "      <td>India</td>\n",
       "      <td>NaN</td>\n",
       "      <td>NaN</td>\n",
       "      <td>NaN</td>\n",
       "      <td>NaN</td>\n",
       "      <td>NaN</td>\n",
       "    </tr>\n",
       "    <tr>\n",
       "      <th>7</th>\n",
       "      <td>Henry</td>\n",
       "      <td>English Literature</td>\n",
       "      <td>54</td>\n",
       "      <td>New York</td>\n",
       "      <td>USA</td>\n",
       "      <td>NaN</td>\n",
       "      <td>NaN</td>\n",
       "      <td>NaN</td>\n",
       "      <td>NaN</td>\n",
       "      <td>NaN</td>\n",
       "    </tr>\n",
       "    <tr>\n",
       "      <th>8</th>\n",
       "      <td>Toby</td>\n",
       "      <td>Physics</td>\n",
       "      <td>26</td>\n",
       "      <td>Sydney</td>\n",
       "      <td>Australia</td>\n",
       "      <td>NaN</td>\n",
       "      <td>NaN</td>\n",
       "      <td>NaN</td>\n",
       "      <td>NaN</td>\n",
       "      <td>NaN</td>\n",
       "    </tr>\n",
       "  </tbody>\n",
       "</table>\n",
       "</div>"
      ],
      "text/plain": [
       "      Name                 Subject  Age      City       Country  Unnamed: 5  \\\n",
       "0    Lucky             Mathematics   20  Vadodara         India         NaN   \n",
       "1     Ayan        Computer Science   21    Mumbai         India         NaN   \n",
       "2     Cody                 Physics   23        LA           USA         NaN   \n",
       "3  Darksun             Mathematics   18     Macau     Hong Kong         NaN   \n",
       "4     Omar  Electrical Engineering   28      Neom  Saudi Arabia         NaN   \n",
       "5  Osvaldo              Statistics   40     Turin         Italy         NaN   \n",
       "6  Shubham                    Arts   22   Udaipur         India         NaN   \n",
       "7    Henry      English Literature   54  New York           USA         NaN   \n",
       "8     Toby                 Physics   26    Sydney     Australia         NaN   \n",
       "\n",
       "   Unnamed: 6  Unnamed: 7  Unnamed: 8  Unnamed: 9  \n",
       "0         NaN         NaN         NaN         NaN  \n",
       "1         NaN         NaN         NaN         NaN  \n",
       "2         NaN         NaN         NaN         NaN  \n",
       "3         NaN         NaN         NaN         NaN  \n",
       "4         NaN         NaN         NaN         NaN  \n",
       "5         NaN         NaN         NaN         NaN  \n",
       "6         NaN         NaN         NaN         NaN  \n",
       "7         NaN         NaN         NaN         NaN  \n",
       "8         NaN         NaN         NaN         NaN  "
      ]
     },
     "execution_count": 19,
     "metadata": {},
     "output_type": "execute_result"
    }
   ],
   "source": [
    "# reading a file which I just created huh\n",
    "my_file = pd.read_csv('sample.csv')\n",
    "my_file"
   ]
  },
  {
   "cell_type": "code",
   "execution_count": null,
   "id": "14a69f29-5600-4de5-a22e-023167fe03ee",
   "metadata": {},
   "outputs": [],
   "source": []
  }
 ],
 "metadata": {
  "kernelspec": {
   "display_name": "Python 3 (ipykernel)",
   "language": "python",
   "name": "python3"
  },
  "language_info": {
   "codemirror_mode": {
    "name": "ipython",
    "version": 3
   },
   "file_extension": ".py",
   "mimetype": "text/x-python",
   "name": "python",
   "nbconvert_exporter": "python",
   "pygments_lexer": "ipython3",
   "version": "3.12.1"
  }
 },
 "nbformat": 4,
 "nbformat_minor": 5
}
