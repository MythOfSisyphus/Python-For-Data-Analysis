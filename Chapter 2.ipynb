{
 "cells": [
  {
   "cell_type": "markdown",
   "id": "f9c823a5-dbbf-4e5b-b7d9-59aac3db7d37",
   "metadata": {},
   "source": [
    "#### Chapter 2 Python Basics, IPython and Jupyter Notebook"
   ]
  },
  {
   "cell_type": "code",
   "execution_count": 1,
   "id": "802a290e-e2fb-4192-9a6f-7725da413eaa",
   "metadata": {},
   "outputs": [],
   "source": [
    "import numpy as np"
   ]
  },
  {
   "cell_type": "code",
   "execution_count": 2,
   "id": "d70ca40b-caa7-4550-bb47-a4a56f28faa6",
   "metadata": {},
   "outputs": [],
   "source": [
    "data = [np.random.standard_normal() for i in range(7)]"
   ]
  },
  {
   "cell_type": "code",
   "execution_count": 3,
   "id": "28e82ce8-075b-46ba-8b26-acf6102383d0",
   "metadata": {},
   "outputs": [
    {
     "data": {
      "text/plain": [
       "[0.8922232270964411,\n",
       " -0.06667668263566622,\n",
       " -1.3699087489351365,\n",
       " -0.012754275305851524,\n",
       " -0.9024861231680099,\n",
       " 0.38512322457063286,\n",
       " 1.900537601082265]"
      ]
     },
     "execution_count": 3,
     "metadata": {},
     "output_type": "execute_result"
    }
   ],
   "source": [
    "data"
   ]
  },
  {
   "cell_type": "code",
   "execution_count": 4,
   "id": "2f1533bd-7dd2-4e88-a535-a4c5272aa7ef",
   "metadata": {},
   "outputs": [],
   "source": [
    "a_boy = 12"
   ]
  },
  {
   "cell_type": "code",
   "execution_count": 5,
   "id": "a5194a06-dfeb-47ce-8eee-4ba55474d792",
   "metadata": {},
   "outputs": [],
   "source": [
    "a_girl = 20"
   ]
  },
  {
   "cell_type": "code",
   "execution_count": 6,
   "id": "18eced23-d84f-406a-befa-a505c59a18da",
   "metadata": {},
   "outputs": [
    {
     "name": "stdout",
     "output_type": "stream",
     "text": [
      "12 20\n"
     ]
    }
   ],
   "source": [
    "print(a_boy, a_girl)"
   ]
  },
  {
   "cell_type": "code",
   "execution_count": 7,
   "id": "c10442e7-aa31-42cb-8437-031681bf1731",
   "metadata": {},
   "outputs": [],
   "source": [
    "b = [90, 45, 78, 22, 341]"
   ]
  },
  {
   "cell_type": "code",
   "execution_count": 9,
   "id": "c4c149b4-a4dd-4b44-b1d9-4345e1434b46",
   "metadata": {},
   "outputs": [],
   "source": [
    "b.append(69)"
   ]
  },
  {
   "cell_type": "code",
   "execution_count": 10,
   "id": "0c784502-27a3-4f18-b103-eb0568fd3544",
   "metadata": {},
   "outputs": [
    {
     "name": "stdout",
     "output_type": "stream",
     "text": [
      "[90, 45, 78, 22, 341, 69]\n"
     ]
    }
   ],
   "source": [
    "print(b)"
   ]
  },
  {
   "cell_type": "code",
   "execution_count": 11,
   "id": "0642b05d-3ce1-4ac5-a852-84df312193ba",
   "metadata": {},
   "outputs": [],
   "source": [
    "b.insert(55, 4)"
   ]
  },
  {
   "cell_type": "code",
   "execution_count": 12,
   "id": "aeae57c8-f134-4f61-9222-406577ac7884",
   "metadata": {},
   "outputs": [
    {
     "name": "stdout",
     "output_type": "stream",
     "text": [
      "[90, 45, 78, 22, 341, 69, 4]\n"
     ]
    }
   ],
   "source": [
    "print(b)"
   ]
  },
  {
   "cell_type": "code",
   "execution_count": 15,
   "id": "c4220433-004a-408e-addd-761f87fadf43",
   "metadata": {},
   "outputs": [],
   "source": [
    "# Now I got syntax for insert is insert(index, value)\n",
    "b.insert(2, 234)"
   ]
  },
  {
   "cell_type": "code",
   "execution_count": 16,
   "id": "5e223ef0-c161-4776-9daf-fdf16e167374",
   "metadata": {},
   "outputs": [
    {
     "name": "stdout",
     "output_type": "stream",
     "text": [
      "[90, 45, 234, 234, 78, 22, 341, 69, 4]\n"
     ]
    }
   ],
   "source": [
    "print(b)"
   ]
  },
  {
   "cell_type": "code",
   "execution_count": 17,
   "id": "9ee6ff34-9221-40b6-8922-0202953c6bb2",
   "metadata": {},
   "outputs": [],
   "source": [
    "import datetime"
   ]
  },
  {
   "cell_type": "code",
   "execution_count": 19,
   "id": "990b8cd6-9c33-41af-8b73-96ae84cd3a6e",
   "metadata": {},
   "outputs": [
    {
     "data": {
      "text/plain": [
       "\u001b[1;31mType:\u001b[0m        list\n",
       "\u001b[1;31mString form:\u001b[0m [90, 45, 234, 234, 78, 22, 341, 69, 4]\n",
       "\u001b[1;31mLength:\u001b[0m      9\n",
       "\u001b[1;31mDocstring:\u001b[0m  \n",
       "Built-in mutable sequence.\n",
       "\n",
       "If no argument is given, the constructor creates a new empty list.\n",
       "The argument must be an iterable if specified."
      ]
     },
     "metadata": {},
     "output_type": "display_data"
    }
   ],
   "source": [
    "b?"
   ]
  },
  {
   "cell_type": "code",
   "execution_count": 20,
   "id": "718f088f-b7fc-441e-bdcd-9f6c157d4691",
   "metadata": {},
   "outputs": [],
   "source": [
    "x = 45"
   ]
  },
  {
   "cell_type": "code",
   "execution_count": 22,
   "id": "5a2a0262-146d-40bf-8a6e-0cd95a5f5dde",
   "metadata": {},
   "outputs": [
    {
     "data": {
      "text/plain": [
       "True"
      ]
     },
     "execution_count": 22,
     "metadata": {},
     "output_type": "execute_result"
    }
   ],
   "source": [
    "isinstance(x, int)"
   ]
  },
  {
   "cell_type": "code",
   "execution_count": 23,
   "id": "7897cd75-560e-41b3-88af-da422972456e",
   "metadata": {},
   "outputs": [
    {
     "data": {
      "text/plain": [
       "True"
      ]
     },
     "execution_count": 23,
     "metadata": {},
     "output_type": "execute_result"
    }
   ],
   "source": [
    "isinstance(x, (int, float))"
   ]
  },
  {
   "cell_type": "code",
   "execution_count": 24,
   "id": "861656fd-c94d-4229-b635-3d412b2ee73e",
   "metadata": {},
   "outputs": [],
   "source": [
    "str_one = \"This is a string.\""
   ]
  },
  {
   "cell_type": "code",
   "execution_count": 25,
   "id": "47c1d05e-2007-4c7c-b3ab-078237561292",
   "metadata": {},
   "outputs": [
    {
     "data": {
      "text/plain": [
       "'This is a str_one string.'"
      ]
     },
     "execution_count": 25,
     "metadata": {},
     "output_type": "execute_result"
    }
   ],
   "source": [
    "str_one.replace(\"string\", \"str_one string\")"
   ]
  },
  {
   "cell_type": "code",
   "execution_count": 27,
   "id": "64ea13b1-712b-4bb4-910c-43870efad449",
   "metadata": {},
   "outputs": [],
   "source": [
    "str_two = \"Hello Bro\\\\ How are you?\""
   ]
  },
  {
   "cell_type": "code",
   "execution_count": 28,
   "id": "620cfd4f-9589-437c-840e-4bc6097cedfa",
   "metadata": {},
   "outputs": [
    {
     "name": "stdout",
     "output_type": "stream",
     "text": [
      "Hello Bro\\ How are you?\n"
     ]
    }
   ],
   "source": [
    "print(str_two)"
   ]
  },
  {
   "cell_type": "code",
   "execution_count": null,
   "id": "166545bb-d511-4c14-84d3-afb12dc2c134",
   "metadata": {},
   "outputs": [],
   "source": []
  }
 ],
 "metadata": {
  "kernelspec": {
   "display_name": "Python 3 (ipykernel)",
   "language": "python",
   "name": "python3"
  },
  "language_info": {
   "codemirror_mode": {
    "name": "ipython",
    "version": 3
   },
   "file_extension": ".py",
   "mimetype": "text/x-python",
   "name": "python",
   "nbconvert_exporter": "python",
   "pygments_lexer": "ipython3",
   "version": "3.12.1"
  }
 },
 "nbformat": 4,
 "nbformat_minor": 5
}
