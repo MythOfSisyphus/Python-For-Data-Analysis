{
 "cells": [
  {
   "cell_type": "markdown",
   "id": "af5f6b0c-5e1b-4ae6-b650-d2a3626c588c",
   "metadata": {},
   "source": [
    "# NumPy Basics: Arrays and Vectorized Computation"
   ]
  },
  {
   "cell_type": "code",
   "execution_count": 1,
   "id": "8500aa81-a3eb-4d9a-856b-dbdea0446f75",
   "metadata": {},
   "outputs": [],
   "source": [
    "import numpy as np"
   ]
  },
  {
   "cell_type": "code",
   "execution_count": 2,
   "id": "0824518a-4a5b-4d5a-abde-efc6b566ab9a",
   "metadata": {},
   "outputs": [],
   "source": [
    "# I'm writing this again because of my mistake I lost all the content of this file which I wrote few hours ago. So sod :("
   ]
  },
  {
   "cell_type": "code",
   "execution_count": 3,
   "id": "c254883d-9f76-423a-b95e-d16b60c116cb",
   "metadata": {},
   "outputs": [],
   "source": [
    "arr = np.array([-1, 2, 4])"
   ]
  },
  {
   "cell_type": "code",
   "execution_count": 4,
   "id": "e9cca641-b27c-4f61-a7d7-13a4dcf45db0",
   "metadata": {},
   "outputs": [],
   "source": [
    "brr = np.array([0, 3, -9])"
   ]
  },
  {
   "cell_type": "code",
   "execution_count": 5,
   "id": "6ebabb31-8b18-43b3-8b43-91f6afcba1f9",
   "metadata": {},
   "outputs": [
    {
     "data": {
      "text/plain": [
       "-30"
      ]
     },
     "execution_count": 5,
     "metadata": {},
     "output_type": "execute_result"
    }
   ],
   "source": [
    "# doing dot product of 'arr' & 'brr'\n",
    "np.dot(arr, brr)"
   ]
  },
  {
   "cell_type": "code",
   "execution_count": 6,
   "id": "31337b14-5dd3-4b90-a99f-d53603c8c0e5",
   "metadata": {},
   "outputs": [
    {
     "data": {
      "text/plain": [
       "(3,)"
      ]
     },
     "execution_count": 6,
     "metadata": {},
     "output_type": "execute_result"
    }
   ],
   "source": [
    "# checking shape and size of 'arr'\n",
    "arr.shape"
   ]
  },
  {
   "cell_type": "code",
   "execution_count": 7,
   "id": "9d72db2f-57b7-4dae-9225-cf4890b49ad0",
   "metadata": {},
   "outputs": [
    {
     "data": {
      "text/plain": [
       "dtype('int32')"
      ]
     },
     "execution_count": 7,
     "metadata": {},
     "output_type": "execute_result"
    }
   ],
   "source": [
    "arr.dtype"
   ]
  },
  {
   "cell_type": "code",
   "execution_count": 8,
   "id": "057c2c13-d033-4547-9f3d-9163f9df4ec6",
   "metadata": {},
   "outputs": [
    {
     "data": {
      "text/plain": [
       "array([0., 0., 0., 0., 0., 0., 0., 0., 0., 0.])"
      ]
     },
     "execution_count": 8,
     "metadata": {},
     "output_type": "execute_result"
    }
   ],
   "source": [
    "# An array of 10 zeros\n",
    "np.zeros(10)"
   ]
  },
  {
   "cell_type": "code",
   "execution_count": 9,
   "id": "173f3f29-56db-4cd1-8625-33b75bc269f7",
   "metadata": {},
   "outputs": [
    {
     "data": {
      "text/plain": [
       "array([[0., 0., 0., 0.],\n",
       "       [0., 0., 0., 0.],\n",
       "       [0., 0., 0., 0.]])"
      ]
     },
     "execution_count": 9,
     "metadata": {},
     "output_type": "execute_result"
    }
   ],
   "source": [
    "# A zero matrix of 3x4\n",
    "zero_mat = np.zeros((3, 4))\n",
    "zero_mat"
   ]
  },
  {
   "cell_type": "code",
   "execution_count": 10,
   "id": "5902a91d-ac36-4dd8-8898-34fe4c05449d",
   "metadata": {},
   "outputs": [
    {
     "data": {
      "text/plain": [
       "array([[0., 0., 0., 0.],\n",
       "       [0., 0., 0., 0.],\n",
       "       [7., 7., 7., 7.]])"
      ]
     },
     "execution_count": 10,
     "metadata": {},
     "output_type": "execute_result"
    }
   ],
   "source": [
    "# changing all elements of 2nd row of 'zero_mat' to 7\n",
    "zero_mat[2] = 7\n",
    "zero_mat"
   ]
  },
  {
   "cell_type": "markdown",
   "id": "65301d54-2d45-4cb6-a265-2969ed9d815d",
   "metadata": {},
   "source": [
    "### Creating An Identity Matrix"
   ]
  },
  {
   "cell_type": "code",
   "execution_count": 11,
   "id": "c0e22a06-e5f5-4b53-b1a6-5b3633904aed",
   "metadata": {},
   "outputs": [],
   "source": [
    "Identity_mat = np.identity(4) # Identity matrix of 4x4"
   ]
  },
  {
   "cell_type": "code",
   "execution_count": 12,
   "id": "af89f417-9085-421d-85a5-082073f6b972",
   "metadata": {},
   "outputs": [
    {
     "name": "stdout",
     "output_type": "stream",
     "text": [
      "[[1. 0. 0. 0.]\n",
      " [0. 1. 0. 0.]\n",
      " [0. 0. 1. 0.]\n",
      " [0. 0. 0. 1.]]\n"
     ]
    }
   ],
   "source": [
    "print(Identity_mat)"
   ]
  },
  {
   "cell_type": "code",
   "execution_count": 17,
   "id": "193a8059-520b-4279-a855-03ab70935b5f",
   "metadata": {},
   "outputs": [
    {
     "data": {
      "text/plain": [
       "array([[0., 1., 0., 0.],\n",
       "       [0., 0., 1., 0.],\n",
       "       [0., 0., 0., 1.]])"
      ]
     },
     "execution_count": 17,
     "metadata": {},
     "output_type": "execute_result"
    }
   ],
   "source": [
    "#changing all elements(a_[ij]) of 'Identity_mat' which are below diagonal to i+j.\n",
    "Identity_mat[1:4]"
   ]
  },
  {
   "cell_type": "code",
   "execution_count": 18,
   "id": "6071a557-be95-4baa-8399-40c56cca1d13",
   "metadata": {},
   "outputs": [],
   "source": [
    "for i in range(1, 4):\n",
    "    for j in range(i):\n",
    "        Identity_mat[i][j] = i+j"
   ]
  },
  {
   "cell_type": "code",
   "execution_count": 19,
   "id": "5d077f83-5842-40f1-8219-b0419796e09a",
   "metadata": {},
   "outputs": [
    {
     "data": {
      "text/plain": [
       "array([[1., 0., 0., 0.],\n",
       "       [1., 1., 0., 0.],\n",
       "       [2., 3., 1., 0.],\n",
       "       [3., 4., 5., 1.]])"
      ]
     },
     "execution_count": 19,
     "metadata": {},
     "output_type": "execute_result"
    }
   ],
   "source": [
    "Identity_mat"
   ]
  },
  {
   "cell_type": "code",
   "execution_count": 20,
   "id": "38bac264-38e2-4c7d-9f61-5381fa53d9e3",
   "metadata": {},
   "outputs": [
    {
     "data": {
      "text/plain": [
       "dtype('float64')"
      ]
     },
     "execution_count": 20,
     "metadata": {},
     "output_type": "execute_result"
    }
   ],
   "source": [
    "Identity_mat.dtype"
   ]
  },
  {
   "cell_type": "markdown",
   "id": "553d853c-7691-4183-a948-43515024f3f7",
   "metadata": {},
   "source": [
    "### Arithmetic with NumPy Array"
   ]
  },
  {
   "cell_type": "code",
   "execution_count": 21,
   "id": "05678488-8d53-4662-9835-1fb4028d5362",
   "metadata": {},
   "outputs": [
    {
     "data": {
      "text/plain": [
       "array([[0, 1, 2, 3, 4],\n",
       "       [5, 6, 7, 8, 9]])"
      ]
     },
     "execution_count": 21,
     "metadata": {},
     "output_type": "execute_result"
    }
   ],
   "source": [
    "A_matrix = np.arange(10).reshape(2, 5)\n",
    "A_matrix"
   ]
  },
  {
   "cell_type": "code",
   "execution_count": 22,
   "id": "3b6aa74e-5ae6-473b-b494-ad781493bbaa",
   "metadata": {},
   "outputs": [],
   "source": [
    "B_matrix = np.arange(20, 35).reshape(5, 3)"
   ]
  },
  {
   "cell_type": "code",
   "execution_count": 23,
   "id": "44d1fd12-a8fb-490b-9225-68517b4a9e0c",
   "metadata": {},
   "outputs": [
    {
     "data": {
      "text/plain": [
       "array([[20, 21, 22],\n",
       "       [23, 24, 25],\n",
       "       [26, 27, 28],\n",
       "       [29, 30, 31],\n",
       "       [32, 33, 34]])"
      ]
     },
     "execution_count": 23,
     "metadata": {},
     "output_type": "execute_result"
    }
   ],
   "source": [
    "B_matrix"
   ]
  },
  {
   "cell_type": "code",
   "execution_count": 24,
   "id": "671dfae1-b9ea-4f25-b4f5-64585741fd02",
   "metadata": {},
   "outputs": [
    {
     "data": {
      "text/plain": [
       "array([[ 290,  300,  310],\n",
       "       [ 940,  975, 1010]])"
      ]
     },
     "execution_count": 24,
     "metadata": {},
     "output_type": "execute_result"
    }
   ],
   "source": [
    "# Matrix Multiplication of { A & B}_matrix\n",
    "np.dot(A_matrix, B_matrix)"
   ]
  },
  {
   "cell_type": "code",
   "execution_count": 25,
   "id": "2ad9fa08-169d-42fd-8eb2-a435447abb57",
   "metadata": {},
   "outputs": [
    {
     "data": {
      "text/plain": [
       "array([[0.05      , 0.04761905, 0.04545455],\n",
       "       [0.04347826, 0.04166667, 0.04      ],\n",
       "       [0.03846154, 0.03703704, 0.03571429],\n",
       "       [0.03448276, 0.03333333, 0.03225806],\n",
       "       [0.03125   , 0.03030303, 0.02941176]])"
      ]
     },
     "execution_count": 25,
     "metadata": {},
     "output_type": "execute_result"
    }
   ],
   "source": [
    "1/B_matrix # reciprocal of each element"
   ]
  },
  {
   "cell_type": "markdown",
   "id": "3afeaa93-665b-405b-86d5-339859bba0cb",
   "metadata": {},
   "source": [
    "### Indexing and Slicing with Array"
   ]
  },
  {
   "cell_type": "code",
   "execution_count": 27,
   "id": "388ef34a-f165-4e7b-b99e-da338e8df0f6",
   "metadata": {},
   "outputs": [
    {
     "data": {
      "text/plain": [
       "array([[3, 4],\n",
       "       [8, 9]])"
      ]
     },
     "execution_count": 27,
     "metadata": {},
     "output_type": "execute_result"
    }
   ],
   "source": [
    "# getting elements of A_matrix 1st and 2nd column\n",
    "A_matrix[0:, 3:]"
   ]
  },
  {
   "cell_type": "code",
   "execution_count": 28,
   "id": "14e5de8c-89f3-470a-bbea-badac378dfb1",
   "metadata": {},
   "outputs": [
    {
     "data": {
      "text/plain": [
       "array([23, 24, 25])"
      ]
     },
     "execution_count": 28,
     "metadata": {},
     "output_type": "execute_result"
    }
   ],
   "source": [
    "# getting all elements of middle column of B_matrix\n",
    "B_matrix[1, 0:]"
   ]
  },
  {
   "cell_type": "code",
   "execution_count": 29,
   "id": "0fded61a-df07-461c-8f93-4f5657bba8b3",
   "metadata": {},
   "outputs": [
    {
     "data": {
      "text/plain": [
       "array([21, 24, 27, 30, 33])"
      ]
     },
     "execution_count": 29,
     "metadata": {},
     "output_type": "execute_result"
    }
   ],
   "source": [
    "B_matrix[0:, 1]"
   ]
  },
  {
   "cell_type": "markdown",
   "id": "0e6681b9-2205-4f27-bf2b-cd00aa8fdaa1",
   "metadata": {},
   "source": [
    "## Boolean Indexing"
   ]
  },
  {
   "cell_type": "code",
   "execution_count": 32,
   "id": "1ec172e5-58cd-4c1e-be51-3dc068443faf",
   "metadata": {},
   "outputs": [],
   "source": [
    "names = np.array([\"lucky\", \"shubham\", \"ayan\", \"lucky\", \"john\", \"prince\", \"ayan\", \"shubham\", \"harry\", \"lucky\"])\n",
    "data = np.array([89, 70, 69, 99, 89, 87, 58, 72, 99, 85])"
   ]
  },
  {
   "cell_type": "code",
   "execution_count": 33,
   "id": "e78fc408-1fcb-44f1-9cc5-83c68573db77",
   "metadata": {},
   "outputs": [
    {
     "data": {
      "text/plain": [
       "array(['lucky', 'shubham', 'ayan', 'lucky', 'john', 'prince', 'ayan',\n",
       "       'shubham', 'harry', 'lucky'], dtype='<U7')"
      ]
     },
     "execution_count": 33,
     "metadata": {},
     "output_type": "execute_result"
    }
   ],
   "source": [
    "names"
   ]
  },
  {
   "cell_type": "code",
   "execution_count": 34,
   "id": "f1b26d35-cb66-4cd4-be83-0b296773ce4a",
   "metadata": {},
   "outputs": [
    {
     "data": {
      "text/plain": [
       "array([89, 70, 69, 99, 89, 87, 58, 72, 99, 85])"
      ]
     },
     "execution_count": 34,
     "metadata": {},
     "output_type": "execute_result"
    }
   ],
   "source": [
    "data"
   ]
  },
  {
   "cell_type": "code",
   "execution_count": 35,
   "id": "14d38259-d1f6-48ad-8107-8a742b972ae9",
   "metadata": {},
   "outputs": [
    {
     "data": {
      "text/plain": [
       "array([89, 99, 85])"
      ]
     },
     "execution_count": 35,
     "metadata": {},
     "output_type": "execute_result"
    }
   ],
   "source": [
    "# now printing data corresponding to \"lucky\"\n",
    "data[names == \"lucky\"]"
   ]
  },
  {
   "cell_type": "code",
   "execution_count": 36,
   "id": "24dec8b2-ad83-428d-a100-df204d4e56f4",
   "metadata": {},
   "outputs": [
    {
     "data": {
      "text/plain": [
       "array([69, 58])"
      ]
     },
     "execution_count": 36,
     "metadata": {},
     "output_type": "execute_result"
    }
   ],
   "source": [
    "# corresponding to \"ayan\"\n",
    "data[names == \"ayan\"]"
   ]
  },
  {
   "cell_type": "code",
   "execution_count": 37,
   "id": "567762a3-836b-49c7-8c24-e4e4c8045336",
   "metadata": {},
   "outputs": [
    {
     "data": {
      "text/plain": [
       "array(['lucky', 'shubham', 'ayan', 'lucky', 'ayan', 'shubham', 'lucky'],\n",
       "      dtype='<U7')"
      ]
     },
     "execution_count": 37,
     "metadata": {},
     "output_type": "execute_result"
    }
   ],
   "source": [
    "names[(names == \"lucky\") | (names == \"ayan\") | (names == \"shubham\")]"
   ]
  },
  {
   "cell_type": "code",
   "execution_count": 38,
   "id": "87b35e80-37dc-4231-a253-8a64af0913c7",
   "metadata": {},
   "outputs": [
    {
     "data": {
      "text/plain": [
       "array([ True,  True,  True,  True, False, False,  True,  True, False,\n",
       "        True])"
      ]
     },
     "execution_count": 38,
     "metadata": {},
     "output_type": "execute_result"
    }
   ],
   "source": [
    "(names == \"lucky\") | (names == \"ayan\") | (names == \"shubham\")"
   ]
  },
  {
   "cell_type": "code",
   "execution_count": 39,
   "id": "15788041-ef2e-4319-8489-3c7982a50347",
   "metadata": {},
   "outputs": [
    {
     "data": {
      "text/plain": [
       "array([['lucky'],\n",
       "       ['shubham'],\n",
       "       ['ayan'],\n",
       "       ['lucky'],\n",
       "       ['john'],\n",
       "       ['prince'],\n",
       "       ['ayan'],\n",
       "       ['shubham'],\n",
       "       ['harry'],\n",
       "       ['lucky']], dtype='<U7')"
      ]
     },
     "execution_count": 39,
     "metadata": {},
     "output_type": "execute_result"
    }
   ],
   "source": [
    "names.reshape(10, 1)"
   ]
  },
  {
   "cell_type": "code",
   "execution_count": 40,
   "id": "84da9534-d2d1-47b9-ac20-6393900f759a",
   "metadata": {},
   "outputs": [
    {
     "data": {
      "text/plain": [
       "array([[89],\n",
       "       [70],\n",
       "       [69],\n",
       "       [99],\n",
       "       [89],\n",
       "       [87],\n",
       "       [58],\n",
       "       [72],\n",
       "       [99],\n",
       "       [85]])"
      ]
     },
     "execution_count": 40,
     "metadata": {},
     "output_type": "execute_result"
    }
   ],
   "source": [
    "data.reshape(10, 1)"
   ]
  },
  {
   "cell_type": "markdown",
   "id": "1b0c7b11-ccb0-4815-879e-b0bc74f7c166",
   "metadata": {},
   "source": [
    "## Transposing Arrays "
   ]
  },
  {
   "cell_type": "code",
   "execution_count": 41,
   "id": "b47f601a-fafd-4b31-98ba-54489ea3e72a",
   "metadata": {},
   "outputs": [],
   "source": [
    "''' \n",
    "let A be a 3x4 matrix and B be a 5x3 matrix,\n",
    "It can be seen that we can't take dot product of A & B but we can\n",
    "take B & A\n",
    "'''\n",
    "A = np.arange(12).reshape(3, 4)\n",
    "B = np.arange(50, 65).reshape(5, 3)"
   ]
  },
  {
   "cell_type": "code",
   "execution_count": 42,
   "id": "07e61477-031e-4a70-b19c-c035107a9a4b",
   "metadata": {},
   "outputs": [
    {
     "data": {
      "text/plain": [
       "array([[ 0,  1,  2,  3],\n",
       "       [ 4,  5,  6,  7],\n",
       "       [ 8,  9, 10, 11]])"
      ]
     },
     "execution_count": 42,
     "metadata": {},
     "output_type": "execute_result"
    }
   ],
   "source": [
    "A"
   ]
  },
  {
   "cell_type": "code",
   "execution_count": 43,
   "id": "39a647cd-7c8d-4d11-acb0-147728839170",
   "metadata": {},
   "outputs": [
    {
     "data": {
      "text/plain": [
       "array([[50, 51, 52],\n",
       "       [53, 54, 55],\n",
       "       [56, 57, 58],\n",
       "       [59, 60, 61],\n",
       "       [62, 63, 64]])"
      ]
     },
     "execution_count": 43,
     "metadata": {},
     "output_type": "execute_result"
    }
   ],
   "source": [
    "B"
   ]
  },
  {
   "cell_type": "code",
   "execution_count": 45,
   "id": "37099306-53ea-489b-98d5-dffcc636b20f",
   "metadata": {},
   "outputs": [
    {
     "data": {
      "text/plain": [
       "array([[ 620,  773,  926, 1079],\n",
       "       [ 656,  818,  980, 1142],\n",
       "       [ 692,  863, 1034, 1205],\n",
       "       [ 728,  908, 1088, 1268],\n",
       "       [ 764,  953, 1142, 1331]])"
      ]
     },
     "execution_count": 45,
     "metadata": {},
     "output_type": "execute_result"
    }
   ],
   "source": [
    "np.dot(B, A)"
   ]
  },
  {
   "cell_type": "code",
   "execution_count": 46,
   "id": "479ea08d-696c-4fa2-b3e8-5d18cfbe4762",
   "metadata": {},
   "outputs": [
    {
     "data": {
      "text/plain": [
       "array([[50, 53, 56, 59, 62],\n",
       "       [51, 54, 57, 60, 63],\n",
       "       [52, 55, 58, 61, 64]])"
      ]
     },
     "execution_count": 46,
     "metadata": {},
     "output_type": "execute_result"
    }
   ],
   "source": [
    "# Transpose of B \n",
    "B.T"
   ]
  },
  {
   "cell_type": "code",
   "execution_count": null,
   "id": "ab4e9618-6fe4-45e8-8fa0-a169c6153ca6",
   "metadata": {},
   "outputs": [],
   "source": []
  }
 ],
 "metadata": {
  "kernelspec": {
   "display_name": "Python 3 (ipykernel)",
   "language": "python",
   "name": "python3"
  },
  "language_info": {
   "codemirror_mode": {
    "name": "ipython",
    "version": 3
   },
   "file_extension": ".py",
   "mimetype": "text/x-python",
   "name": "python",
   "nbconvert_exporter": "python",
   "pygments_lexer": "ipython3",
   "version": "3.12.1"
  }
 },
 "nbformat": 4,
 "nbformat_minor": 5
}
