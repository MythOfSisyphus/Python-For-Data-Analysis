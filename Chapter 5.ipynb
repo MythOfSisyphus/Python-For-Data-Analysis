{
 "cells": [
  {
   "cell_type": "markdown",
   "id": "25c39c8a-8427-443a-9398-407d0e406206",
   "metadata": {},
   "source": [
    "# Getting Started with Pandas"
   ]
  },
  {
   "cell_type": "code",
   "execution_count": 1,
   "id": "0171bdac-59de-41ac-8e99-d91553394b3c",
   "metadata": {},
   "outputs": [],
   "source": [
    "import numpy as np"
   ]
  },
  {
   "cell_type": "code",
   "execution_count": 2,
   "id": "6c3948c0-0514-40d5-89af-7242a18d463b",
   "metadata": {},
   "outputs": [],
   "source": [
    "import pandas as pd"
   ]
  },
  {
   "cell_type": "markdown",
   "id": "56decc2a-3f63-449b-b511-577bce9aced7",
   "metadata": {},
   "source": [
    "## Introduction to Pandas Data Structure"
   ]
  },
  {
   "cell_type": "markdown",
   "id": "a8c24e49-bbf2-49bd-b992-2a434ef54590",
   "metadata": {},
   "source": [
    "### Series"
   ]
  },
  {
   "cell_type": "code",
   "execution_count": 3,
   "id": "8b9ed856-e5c4-41fd-802e-55330971019c",
   "metadata": {},
   "outputs": [],
   "source": [
    "obj = pd.Series([4, -1, 5, 9])"
   ]
  },
  {
   "cell_type": "code",
   "execution_count": 4,
   "id": "53d523dc-a7e1-4bee-81cf-45d2662841ee",
   "metadata": {},
   "outputs": [
    {
     "data": {
      "text/plain": [
       "0    4\n",
       "1   -1\n",
       "2    5\n",
       "3    9\n",
       "dtype: int64"
      ]
     },
     "execution_count": 4,
     "metadata": {},
     "output_type": "execute_result"
    }
   ],
   "source": [
    "obj"
   ]
  },
  {
   "cell_type": "code",
   "execution_count": 5,
   "id": "a9723433-b174-4435-b649-bb660426ea97",
   "metadata": {},
   "outputs": [
    {
     "data": {
      "text/plain": [
       "<NumpyExtensionArray>\n",
       "[4, -1, 5, 9]\n",
       "Length: 4, dtype: int64"
      ]
     },
     "execution_count": 5,
     "metadata": {},
     "output_type": "execute_result"
    }
   ],
   "source": [
    "obj.array"
   ]
  },
  {
   "cell_type": "code",
   "execution_count": 6,
   "id": "73247899-f627-49cc-a0ec-60c1810612c2",
   "metadata": {},
   "outputs": [
    {
     "data": {
      "text/plain": [
       "RangeIndex(start=0, stop=4, step=1)"
      ]
     },
     "execution_count": 6,
     "metadata": {},
     "output_type": "execute_result"
    }
   ],
   "source": [
    "obj.index"
   ]
  },
  {
   "cell_type": "code",
   "execution_count": 7,
   "id": "8c7b6fba-7f6e-455f-8045-7fb0e77b17c3",
   "metadata": {},
   "outputs": [
    {
     "data": {
      "text/plain": [
       "0      54.598150\n",
       "1       0.367879\n",
       "2     148.413159\n",
       "3    8103.083928\n",
       "dtype: float64"
      ]
     },
     "execution_count": 7,
     "metadata": {},
     "output_type": "execute_result"
    }
   ],
   "source": [
    "np.exp(obj)"
   ]
  },
  {
   "cell_type": "code",
   "execution_count": 8,
   "id": "ea1a09e1-2577-4fa2-917f-0ea618b4edfd",
   "metadata": {},
   "outputs": [],
   "source": [
    "# Author and their book\n",
    "Author_Book = {\"Toni Morrison\": \"The Bluest Eyes\", \"Leo Tolstoy\": \"War and Peace\", \"Fyodor Dostoevsky\": \"The Idiot\", \"Ayn Rand\": \"The Fountainhead\"}"
   ]
  },
  {
   "cell_type": "code",
   "execution_count": 9,
   "id": "00be1a9d-f10d-4166-a6ae-983f6fabe3ea",
   "metadata": {},
   "outputs": [
    {
     "data": {
      "text/plain": [
       "Toni Morrison         The Bluest Eyes\n",
       "Leo Tolstoy             War and Peace\n",
       "Fyodor Dostoevsky           The Idiot\n",
       "Ayn Rand             The Fountainhead\n",
       "dtype: object"
      ]
     },
     "execution_count": 9,
     "metadata": {},
     "output_type": "execute_result"
    }
   ],
   "source": [
    "pd.Series(Author_Book)"
   ]
  },
  {
   "cell_type": "code",
   "execution_count": 10,
   "id": "30fcadd6-cd2a-4d04-9ea6-2ed728c7ed64",
   "metadata": {},
   "outputs": [],
   "source": [
    "Book_Year = {\"The Joy of X\": 2014, \"Algoriths to Live By\": 2016, \"Man's Search for Meaning\": 1946, \"The Study in Scarlet\": 1887}"
   ]
  },
  {
   "cell_type": "code",
   "execution_count": 11,
   "id": "a7a2473e-9659-4c6a-a1cd-4a727e72e78e",
   "metadata": {},
   "outputs": [
    {
     "data": {
      "text/plain": [
       "The Joy of X                2014\n",
       "Algoriths to Live By        2016\n",
       "Man's Search for Meaning    1946\n",
       "The Study in Scarlet        1887\n",
       "dtype: int64"
      ]
     },
     "execution_count": 11,
     "metadata": {},
     "output_type": "execute_result"
    }
   ],
   "source": [
    "obj2 = pd.Series(Book_Year)\n",
    "obj2"
   ]
  },
  {
   "cell_type": "code",
   "execution_count": 13,
   "id": "1343f820-8bfa-44fa-98c0-e9f568c5b7d5",
   "metadata": {},
   "outputs": [
    {
     "name": "stdout",
     "output_type": "stream",
     "text": [
      "Index(['The Joy of X', 'Algoriths to Live By', 'Man's Search for Meaning',\n",
      "       'The Study in Scarlet'],\n",
      "      dtype='object')\n"
     ]
    }
   ],
   "source": [
    "print(obj2.index)"
   ]
  },
  {
   "cell_type": "code",
   "execution_count": 14,
   "id": "f90a1a12-647d-4fce-86ff-fe5ae896e650",
   "metadata": {},
   "outputs": [
    {
     "data": {
      "text/plain": [
       "{'The Joy of X': 2014,\n",
       " 'Algoriths to Live By': 2016,\n",
       " \"Man's Search for Meaning\": 1946,\n",
       " 'The Study in Scarlet': 1887}"
      ]
     },
     "execution_count": 14,
     "metadata": {},
     "output_type": "execute_result"
    }
   ],
   "source": [
    "obj2.to_dict()"
   ]
  },
  {
   "cell_type": "markdown",
   "id": "353cba9c-af37-4e4b-acbd-1083f965fde3",
   "metadata": {},
   "source": [
    "### DataFrame"
   ]
  },
  {
   "cell_type": "code",
   "execution_count": 19,
   "id": "a4a38d17-50da-4f81-99a4-4725930b7392",
   "metadata": {},
   "outputs": [],
   "source": [
    "students = {\"name\": [\"lucky\", \"shubham\", \"ayan\", \"harry\", \"hank\", \"prince\", \"vishwas\"],\n",
    "            \"subject\": [\"mathematics\", \"arts\", \"computer science\", \"programming\", \"literature\", \"physics\", \"youtube\"],\n",
    "            \"year\": [2021, 2021, 2020, 2015, 2002, 2022, 2017]}"
   ]
  },
  {
   "cell_type": "code",
   "execution_count": 20,
   "id": "edecdd3e-db2c-4ca8-a4e7-ce23b994d4b5",
   "metadata": {},
   "outputs": [
    {
     "data": {
      "text/plain": [
       "{'name': ['lucky', 'shubham', 'ayan', 'harry', 'hank', 'prince', 'vishwas'],\n",
       " 'subject': ['mathematics',\n",
       "  'arts',\n",
       "  'computer science',\n",
       "  'programming',\n",
       "  'literature',\n",
       "  'physics',\n",
       "  'youtube'],\n",
       " 'year': [2021, 2021, 2020, 2015, 2002, 2022, 2017]}"
      ]
     },
     "execution_count": 20,
     "metadata": {},
     "output_type": "execute_result"
    }
   ],
   "source": [
    "students"
   ]
  },
  {
   "cell_type": "code",
   "execution_count": 23,
   "id": "9915ddd6-f893-40f5-bb2b-a9e43b8c515b",
   "metadata": {},
   "outputs": [
    {
     "data": {
      "text/plain": [
       "name       [lucky, shubham, ayan, harry, hank, prince, vi...\n",
       "subject    [mathematics, arts, computer science, programm...\n",
       "year              [2021, 2021, 2020, 2015, 2002, 2022, 2017]\n",
       "dtype: object"
      ]
     },
     "execution_count": 23,
     "metadata": {},
     "output_type": "execute_result"
    }
   ],
   "source": [
    "# usual way to see\n",
    "obj3 = pd.Series(students)\n",
    "obj3"
   ]
  },
  {
   "cell_type": "code",
   "execution_count": 24,
   "id": "adbf0480-b33c-4dc3-a52d-124a8275cbf4",
   "metadata": {},
   "outputs": [
    {
     "data": {
      "text/html": [
       "<div>\n",
       "<style scoped>\n",
       "    .dataframe tbody tr th:only-of-type {\n",
       "        vertical-align: middle;\n",
       "    }\n",
       "\n",
       "    .dataframe tbody tr th {\n",
       "        vertical-align: top;\n",
       "    }\n",
       "\n",
       "    .dataframe thead th {\n",
       "        text-align: right;\n",
       "    }\n",
       "</style>\n",
       "<table border=\"1\" class=\"dataframe\">\n",
       "  <thead>\n",
       "    <tr style=\"text-align: right;\">\n",
       "      <th></th>\n",
       "      <th>name</th>\n",
       "      <th>subject</th>\n",
       "      <th>year</th>\n",
       "    </tr>\n",
       "  </thead>\n",
       "  <tbody>\n",
       "    <tr>\n",
       "      <th>0</th>\n",
       "      <td>lucky</td>\n",
       "      <td>mathematics</td>\n",
       "      <td>2021</td>\n",
       "    </tr>\n",
       "    <tr>\n",
       "      <th>1</th>\n",
       "      <td>shubham</td>\n",
       "      <td>arts</td>\n",
       "      <td>2021</td>\n",
       "    </tr>\n",
       "    <tr>\n",
       "      <th>2</th>\n",
       "      <td>ayan</td>\n",
       "      <td>computer science</td>\n",
       "      <td>2020</td>\n",
       "    </tr>\n",
       "    <tr>\n",
       "      <th>3</th>\n",
       "      <td>harry</td>\n",
       "      <td>programming</td>\n",
       "      <td>2015</td>\n",
       "    </tr>\n",
       "    <tr>\n",
       "      <th>4</th>\n",
       "      <td>hank</td>\n",
       "      <td>literature</td>\n",
       "      <td>2002</td>\n",
       "    </tr>\n",
       "    <tr>\n",
       "      <th>5</th>\n",
       "      <td>prince</td>\n",
       "      <td>physics</td>\n",
       "      <td>2022</td>\n",
       "    </tr>\n",
       "    <tr>\n",
       "      <th>6</th>\n",
       "      <td>vishwas</td>\n",
       "      <td>youtube</td>\n",
       "      <td>2017</td>\n",
       "    </tr>\n",
       "  </tbody>\n",
       "</table>\n",
       "</div>"
      ],
      "text/plain": [
       "      name           subject  year\n",
       "0    lucky       mathematics  2021\n",
       "1  shubham              arts  2021\n",
       "2     ayan  computer science  2020\n",
       "3    harry       programming  2015\n",
       "4     hank        literature  2002\n",
       "5   prince           physics  2022\n",
       "6  vishwas           youtube  2017"
      ]
     },
     "execution_count": 24,
     "metadata": {},
     "output_type": "execute_result"
    }
   ],
   "source": [
    "# dataframe way ;)\n",
    "frame = pd.DataFrame(students)\n",
    "frame"
   ]
  },
  {
   "cell_type": "code",
   "execution_count": 25,
   "id": "222a715d-5210-45a9-9e38-17b897297be1",
   "metadata": {},
   "outputs": [
    {
     "data": {
      "text/html": [
       "<div>\n",
       "<style scoped>\n",
       "    .dataframe tbody tr th:only-of-type {\n",
       "        vertical-align: middle;\n",
       "    }\n",
       "\n",
       "    .dataframe tbody tr th {\n",
       "        vertical-align: top;\n",
       "    }\n",
       "\n",
       "    .dataframe thead th {\n",
       "        text-align: right;\n",
       "    }\n",
       "</style>\n",
       "<table border=\"1\" class=\"dataframe\">\n",
       "  <thead>\n",
       "    <tr style=\"text-align: right;\">\n",
       "      <th></th>\n",
       "      <th>name</th>\n",
       "      <th>subject</th>\n",
       "      <th>year</th>\n",
       "    </tr>\n",
       "  </thead>\n",
       "  <tbody>\n",
       "    <tr>\n",
       "      <th>0</th>\n",
       "      <td>lucky</td>\n",
       "      <td>mathematics</td>\n",
       "      <td>2021</td>\n",
       "    </tr>\n",
       "    <tr>\n",
       "      <th>1</th>\n",
       "      <td>shubham</td>\n",
       "      <td>arts</td>\n",
       "      <td>2021</td>\n",
       "    </tr>\n",
       "    <tr>\n",
       "      <th>2</th>\n",
       "      <td>ayan</td>\n",
       "      <td>computer science</td>\n",
       "      <td>2020</td>\n",
       "    </tr>\n",
       "    <tr>\n",
       "      <th>3</th>\n",
       "      <td>harry</td>\n",
       "      <td>programming</td>\n",
       "      <td>2015</td>\n",
       "    </tr>\n",
       "    <tr>\n",
       "      <th>4</th>\n",
       "      <td>hank</td>\n",
       "      <td>literature</td>\n",
       "      <td>2002</td>\n",
       "    </tr>\n",
       "  </tbody>\n",
       "</table>\n",
       "</div>"
      ],
      "text/plain": [
       "      name           subject  year\n",
       "0    lucky       mathematics  2021\n",
       "1  shubham              arts  2021\n",
       "2     ayan  computer science  2020\n",
       "3    harry       programming  2015\n",
       "4     hank        literature  2002"
      ]
     },
     "execution_count": 25,
     "metadata": {},
     "output_type": "execute_result"
    }
   ],
   "source": [
    "# for large dataset head() selects first five rows\n",
    "frame.head()"
   ]
  },
  {
   "cell_type": "code",
   "execution_count": 26,
   "id": "02e930d0-e8ca-4454-a489-e7914d4c1910",
   "metadata": {},
   "outputs": [
    {
     "data": {
      "text/html": [
       "<div>\n",
       "<style scoped>\n",
       "    .dataframe tbody tr th:only-of-type {\n",
       "        vertical-align: middle;\n",
       "    }\n",
       "\n",
       "    .dataframe tbody tr th {\n",
       "        vertical-align: top;\n",
       "    }\n",
       "\n",
       "    .dataframe thead th {\n",
       "        text-align: right;\n",
       "    }\n",
       "</style>\n",
       "<table border=\"1\" class=\"dataframe\">\n",
       "  <thead>\n",
       "    <tr style=\"text-align: right;\">\n",
       "      <th></th>\n",
       "      <th>name</th>\n",
       "      <th>subject</th>\n",
       "      <th>year</th>\n",
       "    </tr>\n",
       "  </thead>\n",
       "  <tbody>\n",
       "    <tr>\n",
       "      <th>2</th>\n",
       "      <td>ayan</td>\n",
       "      <td>computer science</td>\n",
       "      <td>2020</td>\n",
       "    </tr>\n",
       "    <tr>\n",
       "      <th>3</th>\n",
       "      <td>harry</td>\n",
       "      <td>programming</td>\n",
       "      <td>2015</td>\n",
       "    </tr>\n",
       "    <tr>\n",
       "      <th>4</th>\n",
       "      <td>hank</td>\n",
       "      <td>literature</td>\n",
       "      <td>2002</td>\n",
       "    </tr>\n",
       "    <tr>\n",
       "      <th>5</th>\n",
       "      <td>prince</td>\n",
       "      <td>physics</td>\n",
       "      <td>2022</td>\n",
       "    </tr>\n",
       "    <tr>\n",
       "      <th>6</th>\n",
       "      <td>vishwas</td>\n",
       "      <td>youtube</td>\n",
       "      <td>2017</td>\n",
       "    </tr>\n",
       "  </tbody>\n",
       "</table>\n",
       "</div>"
      ],
      "text/plain": [
       "      name           subject  year\n",
       "2     ayan  computer science  2020\n",
       "3    harry       programming  2015\n",
       "4     hank        literature  2002\n",
       "5   prince           physics  2022\n",
       "6  vishwas           youtube  2017"
      ]
     },
     "execution_count": 26,
     "metadata": {},
     "output_type": "execute_result"
    }
   ],
   "source": [
    "# similarily tail() returns the last five rows\n",
    "frame.tail()"
   ]
  },
  {
   "cell_type": "code",
   "execution_count": 27,
   "id": "d4fde85e-4c09-4b25-b285-6423d2185680",
   "metadata": {},
   "outputs": [
    {
     "data": {
      "text/html": [
       "<div>\n",
       "<style scoped>\n",
       "    .dataframe tbody tr th:only-of-type {\n",
       "        vertical-align: middle;\n",
       "    }\n",
       "\n",
       "    .dataframe tbody tr th {\n",
       "        vertical-align: top;\n",
       "    }\n",
       "\n",
       "    .dataframe thead th {\n",
       "        text-align: right;\n",
       "    }\n",
       "</style>\n",
       "<table border=\"1\" class=\"dataframe\">\n",
       "  <thead>\n",
       "    <tr style=\"text-align: right;\">\n",
       "      <th></th>\n",
       "      <th>year</th>\n",
       "      <th>name</th>\n",
       "      <th>subject</th>\n",
       "    </tr>\n",
       "  </thead>\n",
       "  <tbody>\n",
       "    <tr>\n",
       "      <th>0</th>\n",
       "      <td>2021</td>\n",
       "      <td>lucky</td>\n",
       "      <td>mathematics</td>\n",
       "    </tr>\n",
       "    <tr>\n",
       "      <th>1</th>\n",
       "      <td>2021</td>\n",
       "      <td>shubham</td>\n",
       "      <td>arts</td>\n",
       "    </tr>\n",
       "    <tr>\n",
       "      <th>2</th>\n",
       "      <td>2020</td>\n",
       "      <td>ayan</td>\n",
       "      <td>computer science</td>\n",
       "    </tr>\n",
       "    <tr>\n",
       "      <th>3</th>\n",
       "      <td>2015</td>\n",
       "      <td>harry</td>\n",
       "      <td>programming</td>\n",
       "    </tr>\n",
       "    <tr>\n",
       "      <th>4</th>\n",
       "      <td>2002</td>\n",
       "      <td>hank</td>\n",
       "      <td>literature</td>\n",
       "    </tr>\n",
       "    <tr>\n",
       "      <th>5</th>\n",
       "      <td>2022</td>\n",
       "      <td>prince</td>\n",
       "      <td>physics</td>\n",
       "    </tr>\n",
       "    <tr>\n",
       "      <th>6</th>\n",
       "      <td>2017</td>\n",
       "      <td>vishwas</td>\n",
       "      <td>youtube</td>\n",
       "    </tr>\n",
       "  </tbody>\n",
       "</table>\n",
       "</div>"
      ],
      "text/plain": [
       "   year     name           subject\n",
       "0  2021    lucky       mathematics\n",
       "1  2021  shubham              arts\n",
       "2  2020     ayan  computer science\n",
       "3  2015    harry       programming\n",
       "4  2002     hank        literature\n",
       "5  2022   prince           physics\n",
       "6  2017  vishwas           youtube"
      ]
     },
     "execution_count": 27,
     "metadata": {},
     "output_type": "execute_result"
    }
   ],
   "source": [
    "pd.DataFrame(students, columns=[\"year\", \"name\", \"subject\"])"
   ]
  },
  {
   "cell_type": "code",
   "execution_count": 28,
   "id": "050e7f6a-0031-4b4a-87bc-5c0d00b67ba7",
   "metadata": {},
   "outputs": [
    {
     "data": {
      "text/plain": [
       "0      lucky\n",
       "1    shubham\n",
       "2       ayan\n",
       "3      harry\n",
       "4       hank\n",
       "5     prince\n",
       "6    vishwas\n",
       "Name: name, dtype: object"
      ]
     },
     "execution_count": 28,
     "metadata": {},
     "output_type": "execute_result"
    }
   ],
   "source": [
    "frame[\"name\"]"
   ]
  },
  {
   "cell_type": "code",
   "execution_count": 29,
   "id": "ac435128-e656-4945-9cdd-997b16ea9a5a",
   "metadata": {},
   "outputs": [
    {
     "data": {
      "text/plain": [
       "name             lucky\n",
       "subject    mathematics\n",
       "year              2021\n",
       "Name: 0, dtype: object"
      ]
     },
     "execution_count": 29,
     "metadata": {},
     "output_type": "execute_result"
    }
   ],
   "source": [
    "# loc and iloc method\n",
    "frame.loc[0]"
   ]
  },
  {
   "cell_type": "code",
   "execution_count": 30,
   "id": "2941a1a3-7ac8-4e58-8d42-a0a6047be4ff",
   "metadata": {},
   "outputs": [
    {
     "data": {
      "text/html": [
       "<div>\n",
       "<style scoped>\n",
       "    .dataframe tbody tr th:only-of-type {\n",
       "        vertical-align: middle;\n",
       "    }\n",
       "\n",
       "    .dataframe tbody tr th {\n",
       "        vertical-align: top;\n",
       "    }\n",
       "\n",
       "    .dataframe thead th {\n",
       "        text-align: right;\n",
       "    }\n",
       "</style>\n",
       "<table border=\"1\" class=\"dataframe\">\n",
       "  <thead>\n",
       "    <tr style=\"text-align: right;\">\n",
       "      <th></th>\n",
       "      <th>year</th>\n",
       "      <th>name</th>\n",
       "      <th>subject</th>\n",
       "      <th>grade</th>\n",
       "    </tr>\n",
       "  </thead>\n",
       "  <tbody>\n",
       "    <tr>\n",
       "      <th>0</th>\n",
       "      <td>2021</td>\n",
       "      <td>lucky</td>\n",
       "      <td>mathematics</td>\n",
       "      <td>NaN</td>\n",
       "    </tr>\n",
       "    <tr>\n",
       "      <th>1</th>\n",
       "      <td>2021</td>\n",
       "      <td>shubham</td>\n",
       "      <td>arts</td>\n",
       "      <td>NaN</td>\n",
       "    </tr>\n",
       "    <tr>\n",
       "      <th>2</th>\n",
       "      <td>2020</td>\n",
       "      <td>ayan</td>\n",
       "      <td>computer science</td>\n",
       "      <td>NaN</td>\n",
       "    </tr>\n",
       "    <tr>\n",
       "      <th>3</th>\n",
       "      <td>2015</td>\n",
       "      <td>harry</td>\n",
       "      <td>programming</td>\n",
       "      <td>NaN</td>\n",
       "    </tr>\n",
       "    <tr>\n",
       "      <th>4</th>\n",
       "      <td>2002</td>\n",
       "      <td>hank</td>\n",
       "      <td>literature</td>\n",
       "      <td>NaN</td>\n",
       "    </tr>\n",
       "    <tr>\n",
       "      <th>5</th>\n",
       "      <td>2022</td>\n",
       "      <td>prince</td>\n",
       "      <td>physics</td>\n",
       "      <td>NaN</td>\n",
       "    </tr>\n",
       "    <tr>\n",
       "      <th>6</th>\n",
       "      <td>2017</td>\n",
       "      <td>vishwas</td>\n",
       "      <td>youtube</td>\n",
       "      <td>NaN</td>\n",
       "    </tr>\n",
       "  </tbody>\n",
       "</table>\n",
       "</div>"
      ],
      "text/plain": [
       "   year     name           subject grade\n",
       "0  2021    lucky       mathematics   NaN\n",
       "1  2021  shubham              arts   NaN\n",
       "2  2020     ayan  computer science   NaN\n",
       "3  2015    harry       programming   NaN\n",
       "4  2002     hank        literature   NaN\n",
       "5  2022   prince           physics   NaN\n",
       "6  2017  vishwas           youtube   NaN"
      ]
     },
     "execution_count": 30,
     "metadata": {},
     "output_type": "execute_result"
    }
   ],
   "source": [
    "# adding new column in \"frame\" named \"grade\"\n",
    "frame2 = pd.DataFrame(students, columns=[\"year\", \"name\", \"subject\", \"grade\"])\n",
    "frame2"
   ]
  },
  {
   "cell_type": "code",
   "execution_count": 32,
   "id": "0b223065-069b-4517-9945-1fcfb7c6b77b",
   "metadata": {},
   "outputs": [
    {
     "data": {
      "text/html": [
       "<div>\n",
       "<style scoped>\n",
       "    .dataframe tbody tr th:only-of-type {\n",
       "        vertical-align: middle;\n",
       "    }\n",
       "\n",
       "    .dataframe tbody tr th {\n",
       "        vertical-align: top;\n",
       "    }\n",
       "\n",
       "    .dataframe thead th {\n",
       "        text-align: right;\n",
       "    }\n",
       "</style>\n",
       "<table border=\"1\" class=\"dataframe\">\n",
       "  <thead>\n",
       "    <tr style=\"text-align: right;\">\n",
       "      <th></th>\n",
       "      <th>year</th>\n",
       "      <th>name</th>\n",
       "      <th>subject</th>\n",
       "      <th>grade</th>\n",
       "    </tr>\n",
       "  </thead>\n",
       "  <tbody>\n",
       "    <tr>\n",
       "      <th>0</th>\n",
       "      <td>2021</td>\n",
       "      <td>lucky</td>\n",
       "      <td>mathematics</td>\n",
       "      <td>3.0</td>\n",
       "    </tr>\n",
       "    <tr>\n",
       "      <th>1</th>\n",
       "      <td>2021</td>\n",
       "      <td>shubham</td>\n",
       "      <td>arts</td>\n",
       "      <td>4.0</td>\n",
       "    </tr>\n",
       "    <tr>\n",
       "      <th>2</th>\n",
       "      <td>2020</td>\n",
       "      <td>ayan</td>\n",
       "      <td>computer science</td>\n",
       "      <td>5.0</td>\n",
       "    </tr>\n",
       "    <tr>\n",
       "      <th>3</th>\n",
       "      <td>2015</td>\n",
       "      <td>harry</td>\n",
       "      <td>programming</td>\n",
       "      <td>6.0</td>\n",
       "    </tr>\n",
       "    <tr>\n",
       "      <th>4</th>\n",
       "      <td>2002</td>\n",
       "      <td>hank</td>\n",
       "      <td>literature</td>\n",
       "      <td>7.0</td>\n",
       "    </tr>\n",
       "    <tr>\n",
       "      <th>5</th>\n",
       "      <td>2022</td>\n",
       "      <td>prince</td>\n",
       "      <td>physics</td>\n",
       "      <td>8.0</td>\n",
       "    </tr>\n",
       "    <tr>\n",
       "      <th>6</th>\n",
       "      <td>2017</td>\n",
       "      <td>vishwas</td>\n",
       "      <td>youtube</td>\n",
       "      <td>9.0</td>\n",
       "    </tr>\n",
       "  </tbody>\n",
       "</table>\n",
       "</div>"
      ],
      "text/plain": [
       "   year     name           subject  grade\n",
       "0  2021    lucky       mathematics    3.0\n",
       "1  2021  shubham              arts    4.0\n",
       "2  2020     ayan  computer science    5.0\n",
       "3  2015    harry       programming    6.0\n",
       "4  2002     hank        literature    7.0\n",
       "5  2022   prince           physics    8.0\n",
       "6  2017  vishwas           youtube    9.0"
      ]
     },
     "execution_count": 32,
     "metadata": {},
     "output_type": "execute_result"
    }
   ],
   "source": [
    "# assigning grades using numpy \n",
    "frame2[\"grade\"] = np.arange(3., 10.)\n",
    "frame2"
   ]
  },
  {
   "cell_type": "code",
   "execution_count": 34,
   "id": "bd560693-53a0-45bc-b6d2-ba012d155d12",
   "metadata": {},
   "outputs": [
    {
     "data": {
      "text/plain": [
       "{'year': 2002, 'name': 'hank', 'subject': 'literature', 'grade': 7.0}"
      ]
     },
     "execution_count": 34,
     "metadata": {},
     "output_type": "execute_result"
    }
   ],
   "source": [
    "# seeing hank's data\n",
    "frame2.iloc[4].to_dict()"
   ]
  },
  {
   "cell_type": "code",
   "execution_count": 35,
   "id": "cd37abaf-6d59-4209-b1f6-9bf071c9c52a",
   "metadata": {},
   "outputs": [
    {
     "data": {
      "text/plain": [
       "array([[2021, 'lucky', 'mathematics', 3.0],\n",
       "       [2021, 'shubham', 'arts', 4.0],\n",
       "       [2020, 'ayan', 'computer science', 5.0],\n",
       "       [2015, 'harry', 'programming', 6.0],\n",
       "       [2002, 'hank', 'literature', 7.0],\n",
       "       [2022, 'prince', 'physics', 8.0],\n",
       "       [2017, 'vishwas', 'youtube', 9.0]], dtype=object)"
      ]
     },
     "execution_count": 35,
     "metadata": {},
     "output_type": "execute_result"
    }
   ],
   "source": [
    "frame2.to_numpy()"
   ]
  },
  {
   "cell_type": "markdown",
   "id": "05d3ace4-c437-4d73-9c61-f5b9f465edb8",
   "metadata": {},
   "source": [
    "## Essential Functionality"
   ]
  },
  {
   "cell_type": "markdown",
   "id": "d07856b0-ebde-4d55-8304-d9b520fe4a8c",
   "metadata": {},
   "source": [
    "### Reindexing"
   ]
  },
  {
   "cell_type": "code",
   "execution_count": 49,
   "id": "2f77128c-f265-442c-a119-79e5a7d42972",
   "metadata": {},
   "outputs": [],
   "source": [
    "example_obj = pd.Series([1, 3.09, 4.98, 5.67, 9.67], index=[\"o\", \"a\", \"u\", \"e\", \"i\"])"
   ]
  },
  {
   "cell_type": "code",
   "execution_count": 50,
   "id": "b38ae965-680a-4319-9b7c-9ce6d7faffec",
   "metadata": {},
   "outputs": [
    {
     "data": {
      "text/plain": [
       "o    1.00\n",
       "a    3.09\n",
       "u    4.98\n",
       "e    5.67\n",
       "i    9.67\n",
       "dtype: float64"
      ]
     },
     "execution_count": 50,
     "metadata": {},
     "output_type": "execute_result"
    }
   ],
   "source": [
    "# let's see what is example_obj\n",
    "example_obj"
   ]
  },
  {
   "cell_type": "code",
   "execution_count": 53,
   "id": "d4e3a48c-8847-4e09-ac12-dd4eb2a5e48b",
   "metadata": {},
   "outputs": [],
   "source": [
    "# now lemme reindex its index \n",
    "# example_obj.reindex([\"a\", \"e\", \"i\", \"o\", \"u\"])"
   ]
  },
  {
   "cell_type": "code",
   "execution_count": 51,
   "id": "ce1c79b6-030d-4e41-9e90-19ba70c99ae4",
   "metadata": {},
   "outputs": [],
   "source": [
    "example_obj_2 = example_obj.reindex([\"a\", \"e\", \"i\", \"o\", \"u\"])"
   ]
  },
  {
   "cell_type": "code",
   "execution_count": 52,
   "id": "b24d039c-5dcf-49c4-a15d-64b4b5e3374e",
   "metadata": {},
   "outputs": [
    {
     "data": {
      "text/plain": [
       "a    3.09\n",
       "e    5.67\n",
       "i    9.67\n",
       "o    1.00\n",
       "u    4.98\n",
       "dtype: float64"
      ]
     },
     "execution_count": 52,
     "metadata": {},
     "output_type": "execute_result"
    }
   ],
   "source": [
    "example_obj_2"
   ]
  },
  {
   "cell_type": "code",
   "execution_count": 59,
   "id": "e600752d-03b0-4e35-b6a8-e8764c4571e1",
   "metadata": {},
   "outputs": [],
   "source": [
    "frame3 = pd.DataFrame(np.arange(9).reshape((3, 3)), \n",
    "                      index = [\"F\", \"S\", \"T\"],\n",
    "                      columns = [\"RJ\", \"Gujarat\", \"MH\"])"
   ]
  },
  {
   "cell_type": "code",
   "execution_count": 60,
   "id": "81ef1820-53fa-4b3e-8818-971728a69b98",
   "metadata": {},
   "outputs": [
    {
     "data": {
      "text/html": [
       "<div>\n",
       "<style scoped>\n",
       "    .dataframe tbody tr th:only-of-type {\n",
       "        vertical-align: middle;\n",
       "    }\n",
       "\n",
       "    .dataframe tbody tr th {\n",
       "        vertical-align: top;\n",
       "    }\n",
       "\n",
       "    .dataframe thead th {\n",
       "        text-align: right;\n",
       "    }\n",
       "</style>\n",
       "<table border=\"1\" class=\"dataframe\">\n",
       "  <thead>\n",
       "    <tr style=\"text-align: right;\">\n",
       "      <th></th>\n",
       "      <th>RJ</th>\n",
       "      <th>Gujarat</th>\n",
       "      <th>MH</th>\n",
       "    </tr>\n",
       "  </thead>\n",
       "  <tbody>\n",
       "    <tr>\n",
       "      <th>F</th>\n",
       "      <td>0</td>\n",
       "      <td>1</td>\n",
       "      <td>2</td>\n",
       "    </tr>\n",
       "    <tr>\n",
       "      <th>S</th>\n",
       "      <td>3</td>\n",
       "      <td>4</td>\n",
       "      <td>5</td>\n",
       "    </tr>\n",
       "    <tr>\n",
       "      <th>T</th>\n",
       "      <td>6</td>\n",
       "      <td>7</td>\n",
       "      <td>8</td>\n",
       "    </tr>\n",
       "  </tbody>\n",
       "</table>\n",
       "</div>"
      ],
      "text/plain": [
       "   RJ  Gujarat  MH\n",
       "F   0        1   2\n",
       "S   3        4   5\n",
       "T   6        7   8"
      ]
     },
     "execution_count": 60,
     "metadata": {},
     "output_type": "execute_result"
    }
   ],
   "source": [
    "frame3"
   ]
  },
  {
   "cell_type": "code",
   "execution_count": 61,
   "id": "509be4b3-990b-415b-a225-5b8425fcc376",
   "metadata": {},
   "outputs": [
    {
     "data": {
      "text/html": [
       "<div>\n",
       "<style scoped>\n",
       "    .dataframe tbody tr th:only-of-type {\n",
       "        vertical-align: middle;\n",
       "    }\n",
       "\n",
       "    .dataframe tbody tr th {\n",
       "        vertical-align: top;\n",
       "    }\n",
       "\n",
       "    .dataframe thead th {\n",
       "        text-align: right;\n",
       "    }\n",
       "</style>\n",
       "<table border=\"1\" class=\"dataframe\">\n",
       "  <thead>\n",
       "    <tr style=\"text-align: right;\">\n",
       "      <th></th>\n",
       "      <th>RJ</th>\n",
       "      <th>Gujarat</th>\n",
       "      <th>MH</th>\n",
       "    </tr>\n",
       "  </thead>\n",
       "  <tbody>\n",
       "    <tr>\n",
       "      <th>F</th>\n",
       "      <td>0.0</td>\n",
       "      <td>1.0</td>\n",
       "      <td>2.0</td>\n",
       "    </tr>\n",
       "    <tr>\n",
       "      <th>S</th>\n",
       "      <td>3.0</td>\n",
       "      <td>4.0</td>\n",
       "      <td>5.0</td>\n",
       "    </tr>\n",
       "    <tr>\n",
       "      <th>T</th>\n",
       "      <td>6.0</td>\n",
       "      <td>7.0</td>\n",
       "      <td>8.0</td>\n",
       "    </tr>\n",
       "    <tr>\n",
       "      <th>E</th>\n",
       "      <td>NaN</td>\n",
       "      <td>NaN</td>\n",
       "      <td>NaN</td>\n",
       "    </tr>\n",
       "  </tbody>\n",
       "</table>\n",
       "</div>"
      ],
      "text/plain": [
       "    RJ  Gujarat   MH\n",
       "F  0.0      1.0  2.0\n",
       "S  3.0      4.0  5.0\n",
       "T  6.0      7.0  8.0\n",
       "E  NaN      NaN  NaN"
      ]
     },
     "execution_count": 61,
     "metadata": {},
     "output_type": "execute_result"
    }
   ],
   "source": [
    "frame4 = frame3.reindex([\"F\", \"S\", \"T\", \"E\"])\n",
    "frame4"
   ]
  },
  {
   "cell_type": "markdown",
   "id": "3fd0d5cd-30b9-42a2-98a2-5211f89c00a8",
   "metadata": {},
   "source": [
    "### Dropping Entries from The Axis"
   ]
  },
  {
   "cell_type": "code",
   "execution_count": null,
   "id": "aeaf485c-4eee-4503-8d4f-36be496e7066",
   "metadata": {},
   "outputs": [],
   "source": []
  }
 ],
 "metadata": {
  "kernelspec": {
   "display_name": "Python 3 (ipykernel)",
   "language": "python",
   "name": "python3"
  },
  "language_info": {
   "codemirror_mode": {
    "name": "ipython",
    "version": 3
   },
   "file_extension": ".py",
   "mimetype": "text/x-python",
   "name": "python",
   "nbconvert_exporter": "python",
   "pygments_lexer": "ipython3",
   "version": "3.12.1"
  }
 },
 "nbformat": 4,
 "nbformat_minor": 5
}
