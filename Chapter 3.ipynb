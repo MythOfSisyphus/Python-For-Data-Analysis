{
 "cells": [
  {
   "cell_type": "markdown",
   "id": "b591d2be-4cae-45e3-a0da-65ab1cbdba2f",
   "metadata": {},
   "source": [
    "# Build-In Data Structure, Functions and Files"
   ]
  },
  {
   "cell_type": "markdown",
   "id": "4f640236-c16f-4337-9ee6-61beb208e4ec",
   "metadata": {},
   "source": [
    "## 3.1 Data Structure and Sequence"
   ]
  },
  {
   "cell_type": "markdown",
   "id": "8825cb3e-c073-4176-adf9-e7009fed0fba",
   "metadata": {},
   "source": [
    "### Tuple"
   ]
  },
  {
   "cell_type": "code",
   "execution_count": 2,
   "id": "66d0e052-8a53-491d-8433-6f771994046a",
   "metadata": {},
   "outputs": [],
   "source": [
    "tup = (3, 9, 23, 24)"
   ]
  },
  {
   "cell_type": "code",
   "execution_count": 3,
   "id": "405297da-0092-447d-aac3-d472cf566b41",
   "metadata": {},
   "outputs": [
    {
     "name": "stdout",
     "output_type": "stream",
     "text": [
      "(3, 9, 23, 24)\n"
     ]
    }
   ],
   "source": [
    "print(tup)"
   ]
  },
  {
   "cell_type": "code",
   "execution_count": 5,
   "id": "0876081c-8429-4ff4-b805-1cf3257b753f",
   "metadata": {},
   "outputs": [],
   "source": [
    "# We can create tupel without braces\n",
    "# Let's see nested tuple\n",
    "tup_2 = ((7, 9, 79, 7979), (1, 11, 110, 10))"
   ]
  },
  {
   "cell_type": "code",
   "execution_count": 6,
   "id": "af04f133-210c-4db9-89cf-20bd471062eb",
   "metadata": {},
   "outputs": [
    {
     "data": {
      "text/plain": [
       "((7, 9, 79, 7979), (1, 11, 110, 10))"
      ]
     },
     "execution_count": 6,
     "metadata": {},
     "output_type": "execute_result"
    }
   ],
   "source": [
    "tup_2"
   ]
  },
  {
   "cell_type": "code",
   "execution_count": 9,
   "id": "1c7d0429-fd44-4b7f-b73a-6e56f45d0545",
   "metadata": {},
   "outputs": [],
   "source": [
    "# You can convert any sequence or iterator to a tuple by invoking tuple\n",
    "tup_3 = tuple([2, 5, 8])"
   ]
  },
  {
   "cell_type": "code",
   "execution_count": 10,
   "id": "78234fc7-cf0e-42d6-8d46-841759fef0c5",
   "metadata": {},
   "outputs": [
    {
     "data": {
      "text/plain": [
       "(2, 5, 8)"
      ]
     },
     "execution_count": 10,
     "metadata": {},
     "output_type": "execute_result"
    }
   ],
   "source": [
    "tup_3"
   ]
  },
  {
   "cell_type": "code",
   "execution_count": 11,
   "id": "e6b90eb2-05c2-41f2-b439-6a7d178ff93f",
   "metadata": {},
   "outputs": [],
   "source": [
    "tup_4 = tuple('string')"
   ]
  },
  {
   "cell_type": "code",
   "execution_count": 12,
   "id": "f39bf2db-200e-455e-8b70-c2c8532a0b55",
   "metadata": {},
   "outputs": [
    {
     "data": {
      "text/plain": [
       "('s', 't', 'r', 'i', 'n', 'g')"
      ]
     },
     "execution_count": 12,
     "metadata": {},
     "output_type": "execute_result"
    }
   ],
   "source": [
    "tup_4"
   ]
  },
  {
   "cell_type": "code",
   "execution_count": 14,
   "id": "79819614-0844-4e42-a092-27aba09b59ef",
   "metadata": {},
   "outputs": [
    {
     "data": {
      "text/plain": [
       "'n'"
      ]
     },
     "execution_count": 14,
     "metadata": {},
     "output_type": "execute_result"
    }
   ],
   "source": [
    "# Accessing elements using []\n",
    "tup_4[4]"
   ]
  },
  {
   "cell_type": "code",
   "execution_count": 15,
   "id": "913ba72b-0ff5-4e0e-b971-d0b60ac10be6",
   "metadata": {},
   "outputs": [],
   "source": [
    "# various types of data inside a tuple\n",
    "killer_tuple = (\"lucky\", [11, 60, 61], True, False, (13, 17, 221))"
   ]
  },
  {
   "cell_type": "code",
   "execution_count": 16,
   "id": "3a3feed9-8185-4b16-8d51-064c17af5365",
   "metadata": {},
   "outputs": [
    {
     "data": {
      "text/plain": [
       "('lucky', [11, 60, 61], True, False, (13, 17, 221))"
      ]
     },
     "execution_count": 16,
     "metadata": {},
     "output_type": "execute_result"
    }
   ],
   "source": [
    "killer_tuple"
   ]
  },
  {
   "cell_type": "code",
   "execution_count": 18,
   "id": "7ef4bd05-9f40-402d-80b9-1d5b82bb3070",
   "metadata": {},
   "outputs": [],
   "source": [
    "# We can't modify tuple's element see by running killer_tuple[0] = \"Python\"\n",
    "# it is because tuple is immutable but if object inside tuple is mutable then we can modity that see\n",
    "killer_tuple[1].append(991)"
   ]
  },
  {
   "cell_type": "code",
   "execution_count": 19,
   "id": "d7f772ae-6683-4d81-b47e-bca23c697744",
   "metadata": {},
   "outputs": [
    {
     "data": {
      "text/plain": [
       "('lucky', [11, 60, 61, 991], True, False, (13, 17, 221))"
      ]
     },
     "execution_count": 19,
     "metadata": {},
     "output_type": "execute_result"
    }
   ],
   "source": [
    "# Printing updated killer_tuple\n",
    "killer_tuple"
   ]
  },
  {
   "cell_type": "code",
   "execution_count": 21,
   "id": "08529c42-a565-419a-9def-bab856d4fec7",
   "metadata": {},
   "outputs": [
    {
     "data": {
      "text/plain": [
       "('s',\n",
       " 't',\n",
       " 'r',\n",
       " 'i',\n",
       " 'n',\n",
       " 'g',\n",
       " 'lucky',\n",
       " [11, 60, 61, 991],\n",
       " True,\n",
       " False,\n",
       " (13, 17, 221))"
      ]
     },
     "execution_count": 21,
     "metadata": {},
     "output_type": "execute_result"
    }
   ],
   "source": [
    "# We have concatenated tup_4 and killer_tuple :)\n",
    "tup_4 + killer_tuple"
   ]
  },
  {
   "cell_type": "markdown",
   "id": "bfc4bda5-b1dd-4207-9eb2-bc122900c07e",
   "metadata": {},
   "source": [
    "### Variable Unpacking"
   ]
  },
  {
   "cell_type": "code",
   "execution_count": 23,
   "id": "dfa8d982-90c1-47d9-bb6d-00a40a20fe91",
   "metadata": {},
   "outputs": [],
   "source": [
    "Var_tup = (2, 89, 97)"
   ]
  },
  {
   "cell_type": "code",
   "execution_count": 30,
   "id": "209becfe-3642-402a-b88d-5cdb1fff9617",
   "metadata": {},
   "outputs": [],
   "source": [
    "# Assigning vaules to a, b and c\n",
    "a, b, c = Var_tup"
   ]
  },
  {
   "cell_type": "code",
   "execution_count": 29,
   "id": "b94b6944-93fb-4da1-b4c9-9dc400617945",
   "metadata": {},
   "outputs": [
    {
     "name": "stdout",
     "output_type": "stream",
     "text": [
      "a=2, b=89, c=97\n"
     ]
    }
   ],
   "source": [
    "print(f\"a={a}, b={b}, c={c}\")"
   ]
  },
  {
   "cell_type": "code",
   "execution_count": 31,
   "id": "fc0effc5-9043-4a55-a0b0-0f09890229e9",
   "metadata": {},
   "outputs": [],
   "source": [
    "# using *rest\n",
    "Var_tup_2 = 1, 11, 121, 1211, 1321"
   ]
  },
  {
   "cell_type": "code",
   "execution_count": 34,
   "id": "3c173954-57b9-4dd8-af1f-c9645badddfe",
   "metadata": {},
   "outputs": [],
   "source": [
    "# x=1, y=11 and all remaing values are in rest\n",
    "x, y, *rest = Var_tup_2"
   ]
  },
  {
   "cell_type": "code",
   "execution_count": 33,
   "id": "46f358b4-8ec9-4004-8f50-e28e4c93378f",
   "metadata": {},
   "outputs": [
    {
     "data": {
      "text/plain": [
       "[121, 1211, 1321]"
      ]
     },
     "execution_count": 33,
     "metadata": {},
     "output_type": "execute_result"
    }
   ],
   "source": [
    "rest"
   ]
  },
  {
   "cell_type": "markdown",
   "id": "8a25347e-cca8-4eed-a0d7-3928d0a28c58",
   "metadata": {},
   "source": [
    "#### Slicing"
   ]
  },
  {
   "cell_type": "code",
   "execution_count": 37,
   "id": "42f32b5e-c703-47a5-b58c-6c014086dda6",
   "metadata": {},
   "outputs": [],
   "source": [
    "seq = [7, 2, 3, 7, 5, 6, 0, 1]"
   ]
  },
  {
   "cell_type": "code",
   "execution_count": 38,
   "id": "02e3a1a6-dc1b-48c8-9571-134efb688b14",
   "metadata": {},
   "outputs": [
    {
     "data": {
      "text/plain": [
       "[3, 7, 5, 6]"
      ]
     },
     "execution_count": 38,
     "metadata": {},
     "output_type": "execute_result"
    }
   ],
   "source": [
    "seq[2: 6]"
   ]
  },
  {
   "cell_type": "code",
   "execution_count": 40,
   "id": "a0b4ca2d-fec7-4b01-a54e-fd9339b2d8b3",
   "metadata": {},
   "outputs": [
    {
     "data": {
      "text/plain": [
       "[7, 2, 3, 7, 5]"
      ]
     },
     "execution_count": 40,
     "metadata": {},
     "output_type": "execute_result"
    }
   ],
   "source": [
    "# notice element at index 6 is not included\n",
    "seq[:5] # will print elements till index 5"
   ]
  },
  {
   "cell_type": "code",
   "execution_count": 41,
   "id": "8f1068c2-3355-4efa-80b0-ea788c70eb22",
   "metadata": {},
   "outputs": [
    {
     "data": {
      "text/plain": [
       "[7, 7, 0]"
      ]
     },
     "execution_count": 41,
     "metadata": {},
     "output_type": "execute_result"
    }
   ],
   "source": [
    "seq[::3] # to take every third element"
   ]
  },
  {
   "cell_type": "markdown",
   "id": "acb7dfb5-be21-4160-90bd-791cd8b3c241",
   "metadata": {},
   "source": [
    "### Dictionary"
   ]
  },
  {
   "cell_type": "code",
   "execution_count": 43,
   "id": "540140cd-c939-4da2-a0b1-467131ee9426",
   "metadata": {},
   "outputs": [],
   "source": [
    "# dictionaries are sometimes called hash maps or associative arrays. \n",
    "dict = {\"name\":\"John Doe\", \"interest\":\"programming\", \"hobby\":\"reading literature\", \"Favorite Num\":7}"
   ]
  },
  {
   "cell_type": "code",
   "execution_count": 44,
   "id": "3ab9a888-7794-49cf-a091-589559569698",
   "metadata": {},
   "outputs": [
    {
     "data": {
      "text/plain": [
       "{'name': 'John Doe',\n",
       " 'interest': 'programming',\n",
       " 'hobby': 'reading literature',\n",
       " 'Favorite Num': 7}"
      ]
     },
     "execution_count": 44,
     "metadata": {},
     "output_type": "execute_result"
    }
   ],
   "source": [
    "dict"
   ]
  },
  {
   "cell_type": "code",
   "execution_count": 47,
   "id": "48ee4d3f-6b2a-45ee-80af-1e5889cfd09b",
   "metadata": {},
   "outputs": [],
   "source": [
    "# we can insert, access and delete tuple's element\n",
    "dict[\"writer\"] = \"O. Henry\"\n",
    "dict[\"fav story\"] = \"The Gift of Magi\""
   ]
  },
  {
   "cell_type": "code",
   "execution_count": 48,
   "id": "5f08e86e-7bac-4a9d-8e00-76aa4e1714aa",
   "metadata": {},
   "outputs": [
    {
     "data": {
      "text/plain": [
       "{'name': 'John Doe',\n",
       " 'interest': 'programming',\n",
       " 'hobby': 'reading literature',\n",
       " 'Favorite Num': 7,\n",
       " 'writer': 'O. Henry',\n",
       " 'fav story': 'The Gift of Magi'}"
      ]
     },
     "execution_count": 48,
     "metadata": {},
     "output_type": "execute_result"
    }
   ],
   "source": [
    "dict"
   ]
  },
  {
   "cell_type": "code",
   "execution_count": 49,
   "id": "78d655c7-57ad-4cf5-91ab-6ed0033e2ee8",
   "metadata": {},
   "outputs": [],
   "source": [
    "# deleting favorite num\n",
    "del dict[\"Favorite Num\"]"
   ]
  },
  {
   "cell_type": "code",
   "execution_count": 50,
   "id": "75b4456b-f31e-4b5b-b6fa-d402f641b636",
   "metadata": {},
   "outputs": [
    {
     "data": {
      "text/plain": [
       "{'name': 'John Doe',\n",
       " 'interest': 'programming',\n",
       " 'hobby': 'reading literature',\n",
       " 'writer': 'O. Henry',\n",
       " 'fav story': 'The Gift of Magi'}"
      ]
     },
     "execution_count": 50,
     "metadata": {},
     "output_type": "execute_result"
    }
   ],
   "source": [
    "dict"
   ]
  },
  {
   "cell_type": "code",
   "execution_count": 51,
   "id": "577412ee-2632-4251-b9f0-8b6f0b06b071",
   "metadata": {},
   "outputs": [],
   "source": [
    "dict[\"list\"] = [1, 2, 12, 1212, 121212]"
   ]
  },
  {
   "cell_type": "code",
   "execution_count": 52,
   "id": "206376c0-95f5-4967-96db-e33157381b1f",
   "metadata": {},
   "outputs": [
    {
     "data": {
      "text/plain": [
       "{'name': 'John Doe',\n",
       " 'interest': 'programming',\n",
       " 'hobby': 'reading literature',\n",
       " 'writer': 'O. Henry',\n",
       " 'fav story': 'The Gift of Magi',\n",
       " 'list': [1, 2, 12, 1212, 121212]}"
      ]
     },
     "execution_count": 52,
     "metadata": {},
     "output_type": "execute_result"
    }
   ],
   "source": [
    "dict"
   ]
  },
  {
   "cell_type": "code",
   "execution_count": 55,
   "id": "5e6757d5-c2d2-4308-a5a7-5e2842357b24",
   "metadata": {},
   "outputs": [
    {
     "data": {
      "text/plain": [
       "['name', 'interest', 'hobby', 'writer', 'fav story', 'list']"
      ]
     },
     "execution_count": 55,
     "metadata": {},
     "output_type": "execute_result"
    }
   ],
   "source": [
    "# The key and value method is very useful see\n",
    "list(dict.keys())"
   ]
  },
  {
   "cell_type": "code",
   "execution_count": 54,
   "id": "ae16e5e7-e3d0-440d-997b-502735af9709",
   "metadata": {},
   "outputs": [
    {
     "data": {
      "text/plain": [
       "['John Doe',\n",
       " 'programming',\n",
       " 'reading literature',\n",
       " 'O. Henry',\n",
       " 'The Gift of Magi',\n",
       " [1, 2, 12, 1212, 121212]]"
      ]
     },
     "execution_count": 54,
     "metadata": {},
     "output_type": "execute_result"
    }
   ],
   "source": [
    "list(dict.values())"
   ]
  },
  {
   "cell_type": "code",
   "execution_count": 56,
   "id": "7273f51b-419b-47e1-9f2f-1ce0a830d3e1",
   "metadata": {},
   "outputs": [
    {
     "data": {
      "text/plain": [
       "[('name', 'John Doe'),\n",
       " ('interest', 'programming'),\n",
       " ('hobby', 'reading literature'),\n",
       " ('writer', 'O. Henry'),\n",
       " ('fav story', 'The Gift of Magi'),\n",
       " ('list', [1, 2, 12, 1212, 121212])]"
      ]
     },
     "execution_count": 56,
     "metadata": {},
     "output_type": "execute_result"
    }
   ],
   "source": [
    "list(dict.items())"
   ]
  },
  {
   "cell_type": "markdown",
   "id": "55283388-2794-489d-a6f1-7ea220486b25",
   "metadata": {},
   "source": [
    "### Set"
   ]
  },
  {
   "cell_type": "code",
   "execution_count": 57,
   "id": "6eace78b-1cea-4e4e-8a4b-11c2c76e35d8",
   "metadata": {},
   "outputs": [
    {
     "data": {
      "text/plain": [
       "{1, 2, 3, 4}"
      ]
     },
     "execution_count": 57,
     "metadata": {},
     "output_type": "execute_result"
    }
   ],
   "source": [
    "set([2, 3, 1, 3, 2, 4, 2, 1, 1, 4, 2])"
   ]
  },
  {
   "cell_type": "code",
   "execution_count": 58,
   "id": "ab207980-fea2-460b-8a84-49d47cdeb997",
   "metadata": {},
   "outputs": [],
   "source": [
    "# checking whether two sets are disjoint or not\n",
    "one = {2, 3, 5, 7, 9, 11, 13}\n",
    "two = {1, 2, 4, 8, 16, 32, 64}"
   ]
  },
  {
   "cell_type": "code",
   "execution_count": 60,
   "id": "a58f0469-2458-4969-a048-bbfe3a2f9968",
   "metadata": {},
   "outputs": [
    {
     "data": {
      "text/plain": [
       "False"
      ]
     },
     "execution_count": 60,
     "metadata": {},
     "output_type": "execute_result"
    }
   ],
   "source": [
    "one.isdisjoint(two)"
   ]
  },
  {
   "cell_type": "code",
   "execution_count": 61,
   "id": "408660be-bf18-487d-82c2-f2292cfd33ae",
   "metadata": {},
   "outputs": [
    {
     "data": {
      "text/plain": [
       "{2}"
      ]
     },
     "execution_count": 61,
     "metadata": {},
     "output_type": "execute_result"
    }
   ],
   "source": [
    "one.intersection(two)"
   ]
  },
  {
   "cell_type": "code",
   "execution_count": 65,
   "id": "051508b9-876d-4fbc-91f8-a34c9d2b74fe",
   "metadata": {},
   "outputs": [
    {
     "name": "stdout",
     "output_type": "stream",
     "text": [
      "[0, 1, 4, 9, 16, 25, 36, 49, 64, 81, 100, 121, 144, 169, 196, 225, 256, 289, 324, 361, 400, 441, 484, 529, 576, 625, 676, 729, 784, 841]\n"
     ]
    }
   ],
   "source": [
    "square_list = [i*i for i in range(30)]\n",
    "print(square_list)"
   ]
  },
  {
   "cell_type": "markdown",
   "id": "3061384d-e750-4137-9bad-b616ba5a3505",
   "metadata": {},
   "source": [
    "# Day 2 Functions Are Objects"
   ]
  },
  {
   "cell_type": "markdown",
   "id": "d860d68b-07fb-436f-a90f-dbe6e0eba23a",
   "metadata": {},
   "source": [
    "## RegEx Revice"
   ]
  },
  {
   "cell_type": "code",
   "execution_count": 5,
   "id": "d624b83a-946c-41e8-b9a8-a5c1383520a3",
   "metadata": {},
   "outputs": [],
   "source": [
    "import re"
   ]
  },
  {
   "cell_type": "code",
   "execution_count": 6,
   "id": "86c418ae-64d0-4619-a7fd-ccb5cb5f7976",
   "metadata": {},
   "outputs": [],
   "source": [
    "match = re.search(r'Room', 'The Skylight Room And Other Stories')"
   ]
  },
  {
   "cell_type": "code",
   "execution_count": 7,
   "id": "bc2d4386-4434-4682-a50d-04526133e125",
   "metadata": {},
   "outputs": [
    {
     "data": {
      "text/plain": [
       "<re.Match object; span=(13, 17), match='Room'>"
      ]
     },
     "execution_count": 7,
     "metadata": {},
     "output_type": "execute_result"
    }
   ],
   "source": [
    "match"
   ]
  },
  {
   "cell_type": "code",
   "execution_count": 8,
   "id": "9882ae02-210c-45a1-9e92-27dff6cf702a",
   "metadata": {},
   "outputs": [
    {
     "data": {
      "text/plain": [
       "'Room'"
      ]
     },
     "execution_count": 8,
     "metadata": {},
     "output_type": "execute_result"
    }
   ],
   "source": [
    "match.group()"
   ]
  },
  {
   "cell_type": "code",
   "execution_count": 10,
   "id": "67bf4c6f-973e-4ab4-a2d8-01afc23cd5f4",
   "metadata": {},
   "outputs": [
    {
     "name": "stdout",
     "output_type": "stream",
     "text": [
      "13 17\n"
     ]
    }
   ],
   "source": [
    "print(match.start(), match.end())"
   ]
  },
  {
   "cell_type": "markdown",
   "id": "934c5ed0-aca0-4168-8890-eb53d435b581",
   "metadata": {},
   "source": [
    "### re.findall(pattern, string, flags=0)"
   ]
  },
  {
   "cell_type": "code",
   "execution_count": 11,
   "id": "da40f5e5-b407-4639-9638-068048fceee7",
   "metadata": {},
   "outputs": [],
   "source": [
    "pattern = 'abc'\n",
    "string = 'lolabcwhyamlearningabcpythonabchellabc'"
   ]
  },
  {
   "cell_type": "code",
   "execution_count": 12,
   "id": "69a1b19f-3bc8-47da-91d9-5019ddfa7d1d",
   "metadata": {},
   "outputs": [
    {
     "data": {
      "text/plain": [
       "['abc', 'abc', 'abc', 'abc']"
      ]
     },
     "execution_count": 12,
     "metadata": {},
     "output_type": "execute_result"
    }
   ],
   "source": [
    "re.findall(pattern, string)"
   ]
  },
  {
   "cell_type": "code",
   "execution_count": 23,
   "id": "ad533b10-329a-4d4b-a1f8-fe6ae840975f",
   "metadata": {},
   "outputs": [],
   "source": [
    "# finding numbers after 1 in the string\n",
    "pattern_2 = '1[0-9]+'\n",
    "string_2 = '1239_175_1776_4749118481846_134'"
   ]
  },
  {
   "cell_type": "code",
   "execution_count": 24,
   "id": "fbd49ac6-edbb-42ee-9295-0c4dcf7416b7",
   "metadata": {},
   "outputs": [
    {
     "data": {
      "text/plain": [
       "['1239', '175', '1776', '118481846', '134']"
      ]
     },
     "execution_count": 24,
     "metadata": {},
     "output_type": "execute_result"
    }
   ],
   "source": [
    "re.findall(pattern_2, string_2)"
   ]
  },
  {
   "cell_type": "code",
   "execution_count": 25,
   "id": "da4bf9dc-e558-484a-aaf2-de1011f0f984",
   "metadata": {},
   "outputs": [],
   "source": [
    "string_2 = '1239_175_1776_4749118481846_134'"
   ]
  },
  {
   "cell_type": "code",
   "execution_count": 26,
   "id": "5e770fa5-44dd-45dc-980a-88682abb5e43",
   "metadata": {},
   "outputs": [
    {
     "data": {
      "text/plain": [
       "['1239', '175', '1776', '118481846', '134']"
      ]
     },
     "execution_count": 26,
     "metadata": {},
     "output_type": "execute_result"
    }
   ],
   "source": [
    "re.findall(pattern_2, string_2)"
   ]
  },
  {
   "cell_type": "code",
   "execution_count": 30,
   "id": "1fc8478d-5b49-472d-af7a-8c1be07938dd",
   "metadata": {},
   "outputs": [],
   "source": [
    "pattern_3 = '[a-z]+' #The pattern represents a continuous sequence of lowercase alphabets.\n",
    "string_3 = 'My Name is lucky chouhan.'"
   ]
  },
  {
   "cell_type": "code",
   "execution_count": 34,
   "id": "b285011e-f342-4613-9e62-c96086fb02f7",
   "metadata": {},
   "outputs": [
    {
     "data": {
      "text/plain": [
       "<re.Match object; span=(1, 2), match='y'>"
      ]
     },
     "execution_count": 34,
     "metadata": {},
     "output_type": "execute_result"
    }
   ],
   "source": [
    "re.search(pattern_3, string_3) # search stops after finding first pattern "
   ]
  },
  {
   "cell_type": "code",
   "execution_count": 33,
   "id": "4135c585-9953-41c2-83dd-f7943c3abd56",
   "metadata": {},
   "outputs": [
    {
     "data": {
      "text/plain": [
       "['y', 'ame', 'is', 'lucky', 'chouhan']"
      ]
     },
     "execution_count": 33,
     "metadata": {},
     "output_type": "execute_result"
    }
   ],
   "source": [
    "re.findall(pattern_3, string_3) # findall finds all pattern in the string"
   ]
  },
  {
   "cell_type": "code",
   "execution_count": 35,
   "id": "793adf45-a4fb-4a08-a749-e9598db9bde9",
   "metadata": {},
   "outputs": [],
   "source": [
    "pattern_4 = '[A-Za-z]+'"
   ]
  },
  {
   "cell_type": "code",
   "execution_count": 36,
   "id": "d090c80f-4424-4a50-a3e9-f9d3888fd97b",
   "metadata": {},
   "outputs": [
    {
     "name": "stdout",
     "output_type": "stream",
     "text": [
      "<re.Match object; span=(0, 2), match='My'> ['My', 'Name', 'is', 'lucky', 'chouhan']\n"
     ]
    }
   ],
   "source": [
    "print(re.search(pattern_4, string_3), re.findall(pattern_4, string_3))"
   ]
  },
  {
   "cell_type": "code",
   "execution_count": 39,
   "id": "8c6e074b-46c6-4c93-9bf1-768836a7c840",
   "metadata": {},
   "outputs": [
    {
     "name": "stdout",
     "output_type": "stream",
     "text": [
      "Yes! My\n"
     ]
    }
   ],
   "source": [
    "if(re.search(pattern_4, string_3)):\n",
    "    print(f\"Yes! {re.search(pattern_4, string_3).group()}\")\n",
    "else:\n",
    "    print(\"Not in string\")"
   ]
  },
  {
   "cell_type": "code",
   "execution_count": 42,
   "id": "eac22fea-6346-4173-bd63-8a33ccb2a4e1",
   "metadata": {},
   "outputs": [],
   "source": [
    "#Trying to validate a indian mobile number\n",
    "checker = '^0?[91][6789][0-9]*{9}'\n",
    "sample_num = '07923847638'"
   ]
  },
  {
   "cell_type": "code",
   "execution_count": 44,
   "id": "9b174646-37b9-40fd-aac6-bf7a76b944d5",
   "metadata": {},
   "outputs": [
    {
     "ename": "error",
     "evalue": "multiple repeat at position 19",
     "output_type": "error",
     "traceback": [
      "\u001b[1;31m---------------------------------------------------------------------------\u001b[0m",
      "\u001b[1;31merror\u001b[0m                                     Traceback (most recent call last)",
      "Cell \u001b[1;32mIn[44], line 1\u001b[0m\n\u001b[1;32m----> 1\u001b[0m \u001b[43mre\u001b[49m\u001b[38;5;241;43m.\u001b[39;49m\u001b[43msearch\u001b[49m\u001b[43m(\u001b[49m\u001b[43mchecker\u001b[49m\u001b[43m,\u001b[49m\u001b[43m \u001b[49m\u001b[43msample_num\u001b[49m\u001b[43m)\u001b[49m \u001b[38;5;66;03m#gonna correct this one soon\u001b[39;00m\n",
      "File \u001b[1;32m~\\AppData\\Local\\Programs\\Python\\Python312\\Lib\\re\\__init__.py:177\u001b[0m, in \u001b[0;36msearch\u001b[1;34m(pattern, string, flags)\u001b[0m\n\u001b[0;32m    174\u001b[0m \u001b[38;5;28;01mdef\u001b[39;00m \u001b[38;5;21msearch\u001b[39m(pattern, string, flags\u001b[38;5;241m=\u001b[39m\u001b[38;5;241m0\u001b[39m):\n\u001b[0;32m    175\u001b[0m \u001b[38;5;250m    \u001b[39m\u001b[38;5;124;03m\"\"\"Scan through string looking for a match to the pattern, returning\u001b[39;00m\n\u001b[0;32m    176\u001b[0m \u001b[38;5;124;03m    a Match object, or None if no match was found.\"\"\"\u001b[39;00m\n\u001b[1;32m--> 177\u001b[0m     \u001b[38;5;28;01mreturn\u001b[39;00m \u001b[43m_compile\u001b[49m\u001b[43m(\u001b[49m\u001b[43mpattern\u001b[49m\u001b[43m,\u001b[49m\u001b[43m \u001b[49m\u001b[43mflags\u001b[49m\u001b[43m)\u001b[49m\u001b[38;5;241m.\u001b[39msearch(string)\n",
      "File \u001b[1;32m~\\AppData\\Local\\Programs\\Python\\Python312\\Lib\\re\\__init__.py:307\u001b[0m, in \u001b[0;36m_compile\u001b[1;34m(pattern, flags)\u001b[0m\n\u001b[0;32m    301\u001b[0m     \u001b[38;5;28;01mimport\u001b[39;00m \u001b[38;5;21;01mwarnings\u001b[39;00m\n\u001b[0;32m    302\u001b[0m     warnings\u001b[38;5;241m.\u001b[39mwarn(\u001b[38;5;124m\"\u001b[39m\u001b[38;5;124mThe re.TEMPLATE/re.T flag is deprecated \u001b[39m\u001b[38;5;124m\"\u001b[39m\n\u001b[0;32m    303\u001b[0m             \u001b[38;5;124m\"\u001b[39m\u001b[38;5;124mas it is an undocumented flag \u001b[39m\u001b[38;5;124m\"\u001b[39m\n\u001b[0;32m    304\u001b[0m             \u001b[38;5;124m\"\u001b[39m\u001b[38;5;124mwithout an obvious purpose. \u001b[39m\u001b[38;5;124m\"\u001b[39m\n\u001b[0;32m    305\u001b[0m             \u001b[38;5;124m\"\u001b[39m\u001b[38;5;124mDon\u001b[39m\u001b[38;5;124m'\u001b[39m\u001b[38;5;124mt use it.\u001b[39m\u001b[38;5;124m\"\u001b[39m,\n\u001b[0;32m    306\u001b[0m             \u001b[38;5;167;01mDeprecationWarning\u001b[39;00m)\n\u001b[1;32m--> 307\u001b[0m p \u001b[38;5;241m=\u001b[39m \u001b[43m_compiler\u001b[49m\u001b[38;5;241;43m.\u001b[39;49m\u001b[43mcompile\u001b[49m\u001b[43m(\u001b[49m\u001b[43mpattern\u001b[49m\u001b[43m,\u001b[49m\u001b[43m \u001b[49m\u001b[43mflags\u001b[49m\u001b[43m)\u001b[49m\n\u001b[0;32m    308\u001b[0m \u001b[38;5;28;01mif\u001b[39;00m flags \u001b[38;5;241m&\u001b[39m DEBUG:\n\u001b[0;32m    309\u001b[0m     \u001b[38;5;28;01mreturn\u001b[39;00m p\n",
      "File \u001b[1;32m~\\AppData\\Local\\Programs\\Python\\Python312\\Lib\\re\\_compiler.py:745\u001b[0m, in \u001b[0;36mcompile\u001b[1;34m(p, flags)\u001b[0m\n\u001b[0;32m    743\u001b[0m \u001b[38;5;28;01mif\u001b[39;00m isstring(p):\n\u001b[0;32m    744\u001b[0m     pattern \u001b[38;5;241m=\u001b[39m p\n\u001b[1;32m--> 745\u001b[0m     p \u001b[38;5;241m=\u001b[39m \u001b[43m_parser\u001b[49m\u001b[38;5;241;43m.\u001b[39;49m\u001b[43mparse\u001b[49m\u001b[43m(\u001b[49m\u001b[43mp\u001b[49m\u001b[43m,\u001b[49m\u001b[43m \u001b[49m\u001b[43mflags\u001b[49m\u001b[43m)\u001b[49m\n\u001b[0;32m    746\u001b[0m \u001b[38;5;28;01melse\u001b[39;00m:\n\u001b[0;32m    747\u001b[0m     pattern \u001b[38;5;241m=\u001b[39m \u001b[38;5;28;01mNone\u001b[39;00m\n",
      "File \u001b[1;32m~\\AppData\\Local\\Programs\\Python\\Python312\\Lib\\re\\_parser.py:979\u001b[0m, in \u001b[0;36mparse\u001b[1;34m(str, flags, state)\u001b[0m\n\u001b[0;32m    976\u001b[0m state\u001b[38;5;241m.\u001b[39mflags \u001b[38;5;241m=\u001b[39m flags\n\u001b[0;32m    977\u001b[0m state\u001b[38;5;241m.\u001b[39mstr \u001b[38;5;241m=\u001b[39m \u001b[38;5;28mstr\u001b[39m\n\u001b[1;32m--> 979\u001b[0m p \u001b[38;5;241m=\u001b[39m \u001b[43m_parse_sub\u001b[49m\u001b[43m(\u001b[49m\u001b[43msource\u001b[49m\u001b[43m,\u001b[49m\u001b[43m \u001b[49m\u001b[43mstate\u001b[49m\u001b[43m,\u001b[49m\u001b[43m \u001b[49m\u001b[43mflags\u001b[49m\u001b[43m \u001b[49m\u001b[38;5;241;43m&\u001b[39;49m\u001b[43m \u001b[49m\u001b[43mSRE_FLAG_VERBOSE\u001b[49m\u001b[43m,\u001b[49m\u001b[43m \u001b[49m\u001b[38;5;241;43m0\u001b[39;49m\u001b[43m)\u001b[49m\n\u001b[0;32m    980\u001b[0m p\u001b[38;5;241m.\u001b[39mstate\u001b[38;5;241m.\u001b[39mflags \u001b[38;5;241m=\u001b[39m fix_flags(\u001b[38;5;28mstr\u001b[39m, p\u001b[38;5;241m.\u001b[39mstate\u001b[38;5;241m.\u001b[39mflags)\n\u001b[0;32m    982\u001b[0m \u001b[38;5;28;01mif\u001b[39;00m source\u001b[38;5;241m.\u001b[39mnext \u001b[38;5;129;01mis\u001b[39;00m \u001b[38;5;129;01mnot\u001b[39;00m \u001b[38;5;28;01mNone\u001b[39;00m:\n",
      "File \u001b[1;32m~\\AppData\\Local\\Programs\\Python\\Python312\\Lib\\re\\_parser.py:460\u001b[0m, in \u001b[0;36m_parse_sub\u001b[1;34m(source, state, verbose, nested)\u001b[0m\n\u001b[0;32m    458\u001b[0m start \u001b[38;5;241m=\u001b[39m source\u001b[38;5;241m.\u001b[39mtell()\n\u001b[0;32m    459\u001b[0m \u001b[38;5;28;01mwhile\u001b[39;00m \u001b[38;5;28;01mTrue\u001b[39;00m:\n\u001b[1;32m--> 460\u001b[0m     itemsappend(\u001b[43m_parse\u001b[49m\u001b[43m(\u001b[49m\u001b[43msource\u001b[49m\u001b[43m,\u001b[49m\u001b[43m \u001b[49m\u001b[43mstate\u001b[49m\u001b[43m,\u001b[49m\u001b[43m \u001b[49m\u001b[43mverbose\u001b[49m\u001b[43m,\u001b[49m\u001b[43m \u001b[49m\u001b[43mnested\u001b[49m\u001b[43m \u001b[49m\u001b[38;5;241;43m+\u001b[39;49m\u001b[43m \u001b[49m\u001b[38;5;241;43m1\u001b[39;49m\u001b[43m,\u001b[49m\n\u001b[0;32m    461\u001b[0m \u001b[43m                       \u001b[49m\u001b[38;5;129;43;01mnot\u001b[39;49;00m\u001b[43m \u001b[49m\u001b[43mnested\u001b[49m\u001b[43m \u001b[49m\u001b[38;5;129;43;01mand\u001b[39;49;00m\u001b[43m \u001b[49m\u001b[38;5;129;43;01mnot\u001b[39;49;00m\u001b[43m \u001b[49m\u001b[43mitems\u001b[49m\u001b[43m)\u001b[49m)\n\u001b[0;32m    462\u001b[0m     \u001b[38;5;28;01mif\u001b[39;00m \u001b[38;5;129;01mnot\u001b[39;00m sourcematch(\u001b[38;5;124m\"\u001b[39m\u001b[38;5;124m|\u001b[39m\u001b[38;5;124m\"\u001b[39m):\n\u001b[0;32m    463\u001b[0m         \u001b[38;5;28;01mbreak\u001b[39;00m\n",
      "File \u001b[1;32m~\\AppData\\Local\\Programs\\Python\\Python312\\Lib\\re\\_parser.py:690\u001b[0m, in \u001b[0;36m_parse\u001b[1;34m(source, state, verbose, nested, first)\u001b[0m\n\u001b[0;32m    687\u001b[0m     \u001b[38;5;28;01mraise\u001b[39;00m source\u001b[38;5;241m.\u001b[39merror(\u001b[38;5;124m\"\u001b[39m\u001b[38;5;124mnothing to repeat\u001b[39m\u001b[38;5;124m\"\u001b[39m,\n\u001b[0;32m    688\u001b[0m                        source\u001b[38;5;241m.\u001b[39mtell() \u001b[38;5;241m-\u001b[39m here \u001b[38;5;241m+\u001b[39m \u001b[38;5;28mlen\u001b[39m(this))\n\u001b[0;32m    689\u001b[0m \u001b[38;5;28;01mif\u001b[39;00m item[\u001b[38;5;241m0\u001b[39m][\u001b[38;5;241m0\u001b[39m] \u001b[38;5;129;01min\u001b[39;00m _REPEATCODES:\n\u001b[1;32m--> 690\u001b[0m     \u001b[38;5;28;01mraise\u001b[39;00m source\u001b[38;5;241m.\u001b[39merror(\u001b[38;5;124m\"\u001b[39m\u001b[38;5;124mmultiple repeat\u001b[39m\u001b[38;5;124m\"\u001b[39m,\n\u001b[0;32m    691\u001b[0m                        source\u001b[38;5;241m.\u001b[39mtell() \u001b[38;5;241m-\u001b[39m here \u001b[38;5;241m+\u001b[39m \u001b[38;5;28mlen\u001b[39m(this))\n\u001b[0;32m    692\u001b[0m \u001b[38;5;28;01mif\u001b[39;00m item[\u001b[38;5;241m0\u001b[39m][\u001b[38;5;241m0\u001b[39m] \u001b[38;5;129;01mis\u001b[39;00m SUBPATTERN:\n\u001b[0;32m    693\u001b[0m     group, add_flags, del_flags, p \u001b[38;5;241m=\u001b[39m item[\u001b[38;5;241m0\u001b[39m][\u001b[38;5;241m1\u001b[39m]\n",
      "\u001b[1;31merror\u001b[0m: multiple repeat at position 19"
     ]
    }
   ],
   "source": [
    "re.search(checker, sample_num) #gonna correct this one soon"
   ]
  },
  {
   "cell_type": "markdown",
   "id": "60ad4c5c-5a00-4c92-9756-23be923d6abc",
   "metadata": {},
   "source": [
    "### Lambda Function"
   ]
  },
  {
   "cell_type": "code",
   "execution_count": 46,
   "id": "3a10bf26-2650-4450-8afd-2bb63cde502f",
   "metadata": {},
   "outputs": [],
   "source": [
    "writer = \"O. Henry\""
   ]
  },
  {
   "cell_type": "code",
   "execution_count": 49,
   "id": "e665cbfd-b3f8-4161-a523-57e2afe4b1d1",
   "metadata": {},
   "outputs": [],
   "source": [
    "upper =  lambda str : str.upper()"
   ]
  },
  {
   "cell_type": "code",
   "execution_count": 50,
   "id": "cab1bf3e-2e3a-4707-9bcd-df7da3c19765",
   "metadata": {},
   "outputs": [
    {
     "data": {
      "text/plain": [
       "'O. HENRY'"
      ]
     },
     "execution_count": 50,
     "metadata": {},
     "output_type": "execute_result"
    }
   ],
   "source": [
    "upper(writer)"
   ]
  },
  {
   "cell_type": "code",
   "execution_count": null,
   "id": "a0b1bbd3-deec-4506-a9a7-7d855c657d34",
   "metadata": {},
   "outputs": [],
   "source": []
  }
 ],
 "metadata": {
  "kernelspec": {
   "display_name": "Python 3 (ipykernel)",
   "language": "python",
   "name": "python3"
  },
  "language_info": {
   "codemirror_mode": {
    "name": "ipython",
    "version": 3
   },
   "file_extension": ".py",
   "mimetype": "text/x-python",
   "name": "python",
   "nbconvert_exporter": "python",
   "pygments_lexer": "ipython3",
   "version": "3.12.1"
  }
 },
 "nbformat": 4,
 "nbformat_minor": 5
}
