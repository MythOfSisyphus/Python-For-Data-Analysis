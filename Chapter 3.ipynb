{
 "cells": [
  {
   "cell_type": "markdown",
   "id": "b591d2be-4cae-45e3-a0da-65ab1cbdba2f",
   "metadata": {},
   "source": [
    "# Build-In Data Structure, Functions and Files"
   ]
  },
  {
   "cell_type": "markdown",
   "id": "4f640236-c16f-4337-9ee6-61beb208e4ec",
   "metadata": {},
   "source": [
    "## 3.1 Data Structure and Sequence"
   ]
  },
  {
   "cell_type": "markdown",
   "id": "8825cb3e-c073-4176-adf9-e7009fed0fba",
   "metadata": {},
   "source": [
    "### Tuple"
   ]
  },
  {
   "cell_type": "code",
   "execution_count": 2,
   "id": "66d0e052-8a53-491d-8433-6f771994046a",
   "metadata": {},
   "outputs": [],
   "source": [
    "tup = (3, 9, 23, 24)"
   ]
  },
  {
   "cell_type": "code",
   "execution_count": 3,
   "id": "405297da-0092-447d-aac3-d472cf566b41",
   "metadata": {},
   "outputs": [
    {
     "name": "stdout",
     "output_type": "stream",
     "text": [
      "(3, 9, 23, 24)\n"
     ]
    }
   ],
   "source": [
    "print(tup)"
   ]
  },
  {
   "cell_type": "code",
   "execution_count": 5,
   "id": "0876081c-8429-4ff4-b805-1cf3257b753f",
   "metadata": {},
   "outputs": [],
   "source": [
    "# We can create tupel without braces\n",
    "# Let's see nested tuple\n",
    "tup_2 = ((7, 9, 79, 7979), (1, 11, 110, 10))"
   ]
  },
  {
   "cell_type": "code",
   "execution_count": 6,
   "id": "af04f133-210c-4db9-89cf-20bd471062eb",
   "metadata": {},
   "outputs": [
    {
     "data": {
      "text/plain": [
       "((7, 9, 79, 7979), (1, 11, 110, 10))"
      ]
     },
     "execution_count": 6,
     "metadata": {},
     "output_type": "execute_result"
    }
   ],
   "source": [
    "tup_2"
   ]
  },
  {
   "cell_type": "code",
   "execution_count": 9,
   "id": "1c7d0429-fd44-4b7f-b73a-6e56f45d0545",
   "metadata": {},
   "outputs": [],
   "source": [
    "# You can convert any sequence or iterator to a tuple by invoking tuple\n",
    "tup_3 = tuple([2, 5, 8])"
   ]
  },
  {
   "cell_type": "code",
   "execution_count": 10,
   "id": "78234fc7-cf0e-42d6-8d46-841759fef0c5",
   "metadata": {},
   "outputs": [
    {
     "data": {
      "text/plain": [
       "(2, 5, 8)"
      ]
     },
     "execution_count": 10,
     "metadata": {},
     "output_type": "execute_result"
    }
   ],
   "source": [
    "tup_3"
   ]
  },
  {
   "cell_type": "code",
   "execution_count": 11,
   "id": "e6b90eb2-05c2-41f2-b439-6a7d178ff93f",
   "metadata": {},
   "outputs": [],
   "source": [
    "tup_4 = tuple('string')"
   ]
  },
  {
   "cell_type": "code",
   "execution_count": 12,
   "id": "f39bf2db-200e-455e-8b70-c2c8532a0b55",
   "metadata": {},
   "outputs": [
    {
     "data": {
      "text/plain": [
       "('s', 't', 'r', 'i', 'n', 'g')"
      ]
     },
     "execution_count": 12,
     "metadata": {},
     "output_type": "execute_result"
    }
   ],
   "source": [
    "tup_4"
   ]
  },
  {
   "cell_type": "code",
   "execution_count": 14,
   "id": "79819614-0844-4e42-a092-27aba09b59ef",
   "metadata": {},
   "outputs": [
    {
     "data": {
      "text/plain": [
       "'n'"
      ]
     },
     "execution_count": 14,
     "metadata": {},
     "output_type": "execute_result"
    }
   ],
   "source": [
    "# Accessing elements using []\n",
    "tup_4[4]"
   ]
  },
  {
   "cell_type": "code",
   "execution_count": 15,
   "id": "913ba72b-0ff5-4e0e-b971-d0b60ac10be6",
   "metadata": {},
   "outputs": [],
   "source": [
    "# various types of data inside a tuple\n",
    "killer_tuple = (\"lucky\", [11, 60, 61], True, False, (13, 17, 221))"
   ]
  },
  {
   "cell_type": "code",
   "execution_count": 16,
   "id": "3a3feed9-8185-4b16-8d51-064c17af5365",
   "metadata": {},
   "outputs": [
    {
     "data": {
      "text/plain": [
       "('lucky', [11, 60, 61], True, False, (13, 17, 221))"
      ]
     },
     "execution_count": 16,
     "metadata": {},
     "output_type": "execute_result"
    }
   ],
   "source": [
    "killer_tuple"
   ]
  },
  {
   "cell_type": "code",
   "execution_count": 18,
   "id": "7ef4bd05-9f40-402d-80b9-1d5b82bb3070",
   "metadata": {},
   "outputs": [],
   "source": [
    "# We can't modify tuple's element see by running killer_tuple[0] = \"Python\"\n",
    "# it is because tuple is immutable but if object inside tuple is mutable then we can modity that see\n",
    "killer_tuple[1].append(991)"
   ]
  },
  {
   "cell_type": "code",
   "execution_count": 19,
   "id": "d7f772ae-6683-4d81-b47e-bca23c697744",
   "metadata": {},
   "outputs": [
    {
     "data": {
      "text/plain": [
       "('lucky', [11, 60, 61, 991], True, False, (13, 17, 221))"
      ]
     },
     "execution_count": 19,
     "metadata": {},
     "output_type": "execute_result"
    }
   ],
   "source": [
    "# Printing updated killer_tuple\n",
    "killer_tuple"
   ]
  },
  {
   "cell_type": "code",
   "execution_count": 21,
   "id": "08529c42-a565-419a-9def-bab856d4fec7",
   "metadata": {},
   "outputs": [
    {
     "data": {
      "text/plain": [
       "('s',\n",
       " 't',\n",
       " 'r',\n",
       " 'i',\n",
       " 'n',\n",
       " 'g',\n",
       " 'lucky',\n",
       " [11, 60, 61, 991],\n",
       " True,\n",
       " False,\n",
       " (13, 17, 221))"
      ]
     },
     "execution_count": 21,
     "metadata": {},
     "output_type": "execute_result"
    }
   ],
   "source": [
    "# We have concatenated tup_4 and killer_tuple :)\n",
    "tup_4 + killer_tuple"
   ]
  },
  {
   "cell_type": "markdown",
   "id": "bfc4bda5-b1dd-4207-9eb2-bc122900c07e",
   "metadata": {},
   "source": [
    "### Variable Unpacking"
   ]
  },
  {
   "cell_type": "code",
   "execution_count": 23,
   "id": "dfa8d982-90c1-47d9-bb6d-00a40a20fe91",
   "metadata": {},
   "outputs": [],
   "source": [
    "Var_tup = (2, 89, 97)"
   ]
  },
  {
   "cell_type": "code",
   "execution_count": 30,
   "id": "209becfe-3642-402a-b88d-5cdb1fff9617",
   "metadata": {},
   "outputs": [],
   "source": [
    "# Assigning vaules to a, b and c\n",
    "a, b, c = Var_tup"
   ]
  },
  {
   "cell_type": "code",
   "execution_count": 29,
   "id": "b94b6944-93fb-4da1-b4c9-9dc400617945",
   "metadata": {},
   "outputs": [
    {
     "name": "stdout",
     "output_type": "stream",
     "text": [
      "a=2, b=89, c=97\n"
     ]
    }
   ],
   "source": [
    "print(f\"a={a}, b={b}, c={c}\")"
   ]
  },
  {
   "cell_type": "code",
   "execution_count": 31,
   "id": "fc0effc5-9043-4a55-a0b0-0f09890229e9",
   "metadata": {},
   "outputs": [],
   "source": [
    "# using *rest\n",
    "Var_tup_2 = 1, 11, 121, 1211, 1321"
   ]
  },
  {
   "cell_type": "code",
   "execution_count": 34,
   "id": "3c173954-57b9-4dd8-af1f-c9645badddfe",
   "metadata": {},
   "outputs": [],
   "source": [
    "# x=1, y=11 and all remaing values are in rest\n",
    "x, y, *rest = Var_tup_2"
   ]
  },
  {
   "cell_type": "code",
   "execution_count": 33,
   "id": "46f358b4-8ec9-4004-8f50-e28e4c93378f",
   "metadata": {},
   "outputs": [
    {
     "data": {
      "text/plain": [
       "[121, 1211, 1321]"
      ]
     },
     "execution_count": 33,
     "metadata": {},
     "output_type": "execute_result"
    }
   ],
   "source": [
    "rest"
   ]
  },
  {
   "cell_type": "markdown",
   "id": "8a25347e-cca8-4eed-a0d7-3928d0a28c58",
   "metadata": {},
   "source": [
    "#### Slicing"
   ]
  },
  {
   "cell_type": "code",
   "execution_count": 37,
   "id": "42f32b5e-c703-47a5-b58c-6c014086dda6",
   "metadata": {},
   "outputs": [],
   "source": [
    "seq = [7, 2, 3, 7, 5, 6, 0, 1]"
   ]
  },
  {
   "cell_type": "code",
   "execution_count": 38,
   "id": "02e3a1a6-dc1b-48c8-9571-134efb688b14",
   "metadata": {},
   "outputs": [
    {
     "data": {
      "text/plain": [
       "[3, 7, 5, 6]"
      ]
     },
     "execution_count": 38,
     "metadata": {},
     "output_type": "execute_result"
    }
   ],
   "source": [
    "seq[2: 6]"
   ]
  },
  {
   "cell_type": "code",
   "execution_count": 40,
   "id": "a0b4ca2d-fec7-4b01-a54e-fd9339b2d8b3",
   "metadata": {},
   "outputs": [
    {
     "data": {
      "text/plain": [
       "[7, 2, 3, 7, 5]"
      ]
     },
     "execution_count": 40,
     "metadata": {},
     "output_type": "execute_result"
    }
   ],
   "source": [
    "# notice element at index 6 is not included\n",
    "seq[:5] # will print elements till index 5"
   ]
  },
  {
   "cell_type": "code",
   "execution_count": 41,
   "id": "8f1068c2-3355-4efa-80b0-ea788c70eb22",
   "metadata": {},
   "outputs": [
    {
     "data": {
      "text/plain": [
       "[7, 7, 0]"
      ]
     },
     "execution_count": 41,
     "metadata": {},
     "output_type": "execute_result"
    }
   ],
   "source": [
    "seq[::3] # to take every third element"
   ]
  },
  {
   "cell_type": "markdown",
   "id": "acb7dfb5-be21-4160-90bd-791cd8b3c241",
   "metadata": {},
   "source": [
    "### Dictionary"
   ]
  },
  {
   "cell_type": "code",
   "execution_count": 43,
   "id": "540140cd-c939-4da2-a0b1-467131ee9426",
   "metadata": {},
   "outputs": [],
   "source": [
    "# dictionaries are sometimes called hash maps or associative arrays. \n",
    "dict = {\"name\":\"John Doe\", \"interest\":\"programming\", \"hobby\":\"reading literature\", \"Favorite Num\":7}"
   ]
  },
  {
   "cell_type": "code",
   "execution_count": 44,
   "id": "3ab9a888-7794-49cf-a091-589559569698",
   "metadata": {},
   "outputs": [
    {
     "data": {
      "text/plain": [
       "{'name': 'John Doe',\n",
       " 'interest': 'programming',\n",
       " 'hobby': 'reading literature',\n",
       " 'Favorite Num': 7}"
      ]
     },
     "execution_count": 44,
     "metadata": {},
     "output_type": "execute_result"
    }
   ],
   "source": [
    "dict"
   ]
  },
  {
   "cell_type": "code",
   "execution_count": 47,
   "id": "48ee4d3f-6b2a-45ee-80af-1e5889cfd09b",
   "metadata": {},
   "outputs": [],
   "source": [
    "# we can insert, access and delete tuple's element\n",
    "dict[\"writer\"] = \"O. Henry\"\n",
    "dict[\"fav story\"] = \"The Gift of Magi\""
   ]
  },
  {
   "cell_type": "code",
   "execution_count": 48,
   "id": "5f08e86e-7bac-4a9d-8e00-76aa4e1714aa",
   "metadata": {},
   "outputs": [
    {
     "data": {
      "text/plain": [
       "{'name': 'John Doe',\n",
       " 'interest': 'programming',\n",
       " 'hobby': 'reading literature',\n",
       " 'Favorite Num': 7,\n",
       " 'writer': 'O. Henry',\n",
       " 'fav story': 'The Gift of Magi'}"
      ]
     },
     "execution_count": 48,
     "metadata": {},
     "output_type": "execute_result"
    }
   ],
   "source": [
    "dict"
   ]
  },
  {
   "cell_type": "code",
   "execution_count": 49,
   "id": "78d655c7-57ad-4cf5-91ab-6ed0033e2ee8",
   "metadata": {},
   "outputs": [],
   "source": [
    "# deleting favorite num\n",
    "del dict[\"Favorite Num\"]"
   ]
  },
  {
   "cell_type": "code",
   "execution_count": 50,
   "id": "75b4456b-f31e-4b5b-b6fa-d402f641b636",
   "metadata": {},
   "outputs": [
    {
     "data": {
      "text/plain": [
       "{'name': 'John Doe',\n",
       " 'interest': 'programming',\n",
       " 'hobby': 'reading literature',\n",
       " 'writer': 'O. Henry',\n",
       " 'fav story': 'The Gift of Magi'}"
      ]
     },
     "execution_count": 50,
     "metadata": {},
     "output_type": "execute_result"
    }
   ],
   "source": [
    "dict"
   ]
  },
  {
   "cell_type": "code",
   "execution_count": 51,
   "id": "577412ee-2632-4251-b9f0-8b6f0b06b071",
   "metadata": {},
   "outputs": [],
   "source": [
    "dict[\"list\"] = [1, 2, 12, 1212, 121212]"
   ]
  },
  {
   "cell_type": "code",
   "execution_count": 52,
   "id": "206376c0-95f5-4967-96db-e33157381b1f",
   "metadata": {},
   "outputs": [
    {
     "data": {
      "text/plain": [
       "{'name': 'John Doe',\n",
       " 'interest': 'programming',\n",
       " 'hobby': 'reading literature',\n",
       " 'writer': 'O. Henry',\n",
       " 'fav story': 'The Gift of Magi',\n",
       " 'list': [1, 2, 12, 1212, 121212]}"
      ]
     },
     "execution_count": 52,
     "metadata": {},
     "output_type": "execute_result"
    }
   ],
   "source": [
    "dict"
   ]
  },
  {
   "cell_type": "code",
   "execution_count": 55,
   "id": "5e6757d5-c2d2-4308-a5a7-5e2842357b24",
   "metadata": {},
   "outputs": [
    {
     "data": {
      "text/plain": [
       "['name', 'interest', 'hobby', 'writer', 'fav story', 'list']"
      ]
     },
     "execution_count": 55,
     "metadata": {},
     "output_type": "execute_result"
    }
   ],
   "source": [
    "# The key and value method is very useful see\n",
    "list(dict.keys())"
   ]
  },
  {
   "cell_type": "code",
   "execution_count": 54,
   "id": "ae16e5e7-e3d0-440d-997b-502735af9709",
   "metadata": {},
   "outputs": [
    {
     "data": {
      "text/plain": [
       "['John Doe',\n",
       " 'programming',\n",
       " 'reading literature',\n",
       " 'O. Henry',\n",
       " 'The Gift of Magi',\n",
       " [1, 2, 12, 1212, 121212]]"
      ]
     },
     "execution_count": 54,
     "metadata": {},
     "output_type": "execute_result"
    }
   ],
   "source": [
    "list(dict.values())"
   ]
  },
  {
   "cell_type": "code",
   "execution_count": 56,
   "id": "7273f51b-419b-47e1-9f2f-1ce0a830d3e1",
   "metadata": {},
   "outputs": [
    {
     "data": {
      "text/plain": [
       "[('name', 'John Doe'),\n",
       " ('interest', 'programming'),\n",
       " ('hobby', 'reading literature'),\n",
       " ('writer', 'O. Henry'),\n",
       " ('fav story', 'The Gift of Magi'),\n",
       " ('list', [1, 2, 12, 1212, 121212])]"
      ]
     },
     "execution_count": 56,
     "metadata": {},
     "output_type": "execute_result"
    }
   ],
   "source": [
    "list(dict.items())"
   ]
  },
  {
   "cell_type": "markdown",
   "id": "55283388-2794-489d-a6f1-7ea220486b25",
   "metadata": {},
   "source": [
    "### Set"
   ]
  },
  {
   "cell_type": "code",
   "execution_count": 57,
   "id": "6eace78b-1cea-4e4e-8a4b-11c2c76e35d8",
   "metadata": {},
   "outputs": [
    {
     "data": {
      "text/plain": [
       "{1, 2, 3, 4}"
      ]
     },
     "execution_count": 57,
     "metadata": {},
     "output_type": "execute_result"
    }
   ],
   "source": [
    "set([2, 3, 1, 3, 2, 4, 2, 1, 1, 4, 2])"
   ]
  },
  {
   "cell_type": "code",
   "execution_count": 58,
   "id": "ab207980-fea2-460b-8a84-49d47cdeb997",
   "metadata": {},
   "outputs": [],
   "source": [
    "# checking whether two sets are disjoint or not\n",
    "one = {2, 3, 5, 7, 9, 11, 13}\n",
    "two = {1, 2, 4, 8, 16, 32, 64}"
   ]
  },
  {
   "cell_type": "code",
   "execution_count": 60,
   "id": "a58f0469-2458-4969-a048-bbfe3a2f9968",
   "metadata": {},
   "outputs": [
    {
     "data": {
      "text/plain": [
       "False"
      ]
     },
     "execution_count": 60,
     "metadata": {},
     "output_type": "execute_result"
    }
   ],
   "source": [
    "one.isdisjoint(two)"
   ]
  },
  {
   "cell_type": "code",
   "execution_count": 61,
   "id": "408660be-bf18-487d-82c2-f2292cfd33ae",
   "metadata": {},
   "outputs": [
    {
     "data": {
      "text/plain": [
       "{2}"
      ]
     },
     "execution_count": 61,
     "metadata": {},
     "output_type": "execute_result"
    }
   ],
   "source": [
    "one.intersection(two)"
   ]
  },
  {
   "cell_type": "code",
   "execution_count": 65,
   "id": "051508b9-876d-4fbc-91f8-a34c9d2b74fe",
   "metadata": {},
   "outputs": [
    {
     "name": "stdout",
     "output_type": "stream",
     "text": [
      "[0, 1, 4, 9, 16, 25, 36, 49, 64, 81, 100, 121, 144, 169, 196, 225, 256, 289, 324, 361, 400, 441, 484, 529, 576, 625, 676, 729, 784, 841]\n"
     ]
    }
   ],
   "source": [
    "square_list = [i*i for i in range(30)]\n",
    "print(square_list)"
   ]
  },
  {
   "cell_type": "code",
   "execution_count": null,
   "id": "897c670c-6747-4c68-bdcd-1961f523f50c",
   "metadata": {},
   "outputs": [],
   "source": []
  }
 ],
 "metadata": {
  "kernelspec": {
   "display_name": "Python 3 (ipykernel)",
   "language": "python",
   "name": "python3"
  },
  "language_info": {
   "codemirror_mode": {
    "name": "ipython",
    "version": 3
   },
   "file_extension": ".py",
   "mimetype": "text/x-python",
   "name": "python",
   "nbconvert_exporter": "python",
   "pygments_lexer": "ipython3",
   "version": "3.12.1"
  }
 },
 "nbformat": 4,
 "nbformat_minor": 5
}
